{
  "nbformat": 4,
  "nbformat_minor": 0,
  "metadata": {
    "colab": {
      "name": "Titanic_ML.ipynb",
      "provenance": [],
      "collapsed_sections": [],
      "authorship_tag": "ABX9TyOO7uY2UTgNFEPSy8NFdTCl",
      "include_colab_link": true
    },
    "kernelspec": {
      "name": "python3",
      "display_name": "Python 3"
    },
    "language_info": {
      "name": "python"
    }
  },
  "cells": [
    {
      "cell_type": "markdown",
      "metadata": {
        "id": "view-in-github",
        "colab_type": "text"
      },
      "source": [
        "<a href=\"https://colab.research.google.com/github/pawansaxena108/Titanic-Dataset/blob/master/Titanic_ML.ipynb\" target=\"_parent\"><img src=\"https://colab.research.google.com/assets/colab-badge.svg\" alt=\"Open In Colab\"/></a>"
      ]
    },
    {
      "cell_type": "code",
      "metadata": {
        "id": "EIuUFFHuMQaG"
      },
      "source": [
        "!pip install category_encoders"
      ],
      "execution_count": null,
      "outputs": []
    },
    {
      "cell_type": "code",
      "metadata": {
        "colab": {
          "base_uri": "https://localhost:8080/",
          "height": 310
        },
        "id": "Gq1OTqbKrheT",
        "outputId": "76bf1004-78d1-4b45-ce06-600fc3b4b38e"
      },
      "source": [
        "import github"
      ],
      "execution_count": 1,
      "outputs": [
        {
          "output_type": "error",
          "ename": "ModuleNotFoundError",
          "evalue": "ignored",
          "traceback": [
            "\u001b[0;31m---------------------------------------------------------------------------\u001b[0m",
            "\u001b[0;31mModuleNotFoundError\u001b[0m                       Traceback (most recent call last)",
            "\u001b[0;32m<ipython-input-1-d9e39a751c09>\u001b[0m in \u001b[0;36m<module>\u001b[0;34m()\u001b[0m\n\u001b[0;32m----> 1\u001b[0;31m \u001b[0;32mimport\u001b[0m \u001b[0mgithub\u001b[0m\u001b[0;34m\u001b[0m\u001b[0;34m\u001b[0m\u001b[0m\n\u001b[0m",
            "\u001b[0;31mModuleNotFoundError\u001b[0m: No module named 'github'",
            "",
            "\u001b[0;31m---------------------------------------------------------------------------\u001b[0;32m\nNOTE: If your import is failing due to a missing package, you can\nmanually install dependencies using either !pip or !apt.\n\nTo view examples of installing some common dependencies, click the\n\"Open Examples\" button below.\n\u001b[0;31m---------------------------------------------------------------------------\u001b[0m\n"
          ],
          "errorDetails": {
            "actions": [
              {
                "action": "open_url",
                "actionText": "Open Examples",
                "url": "/notebooks/snippets/importing_libraries.ipynb"
              }
            ]
          }
        }
      ]
    },
    {
      "cell_type": "code",
      "metadata": {
        "id": "a0WlTIyDIiSZ",
        "colab": {
          "base_uri": "https://localhost:8080/"
        },
        "outputId": "9be566ad-121c-41ab-af9e-e06466a0c8a1"
      },
      "source": [
        "import numpy as np\n",
        "import pandas as pd\n",
        "from sklearn.model_selection import train_test_split\n",
        "from sklearn.preprocessing import StandardScaler,MinMaxScaler, OneHotEncoder, LabelEncoder,OrdinalEncoder\n",
        "from sklearn.compose import ColumnTransformer,make_column_selector as selector,make_column_transformer\n",
        "from sklearn.tree import DecisionTreeClassifier\n",
        "from sklearn.ensemble import RandomForestClassifier\n",
        "from sklearn.pipeline import make_pipeline,Pipeline\n",
        "import category_encoders as ce\n",
        "import seaborn as sns \n",
        "import matplotlib.pyplot as plt\n",
        "from sklearn.impute import SimpleImputer,KNNImputer\n",
        "from sklearn.metrics import f1_score, roc_auc_score, roc_curve, recall_score, classification_report\n"
      ],
      "execution_count": null,
      "outputs": [
        {
          "output_type": "stream",
          "name": "stderr",
          "text": [
            "/usr/local/lib/python3.7/dist-packages/statsmodels/tools/_testing.py:19: FutureWarning: pandas.util.testing is deprecated. Use the functions in the public API at pandas.testing instead.\n",
            "  import pandas.util.testing as tm\n"
          ]
        }
      ]
    },
    {
      "cell_type": "code",
      "metadata": {
        "id": "_oAR5b6lBRmr"
      },
      "source": [
        "!pip install scikit-learn --upgrade"
      ],
      "execution_count": null,
      "outputs": []
    },
    {
      "cell_type": "code",
      "metadata": {
        "colab": {
          "base_uri": "https://localhost:8080/",
          "height": 35
        },
        "id": "ZRC77GoUBTph",
        "outputId": "8c4a7e67-4a1a-4061-f84a-84dd690449a6"
      },
      "source": [
        "import sklearn\n",
        "sklearn.__version__"
      ],
      "execution_count": null,
      "outputs": [
        {
          "output_type": "execute_result",
          "data": {
            "application/vnd.google.colaboratory.intrinsic+json": {
              "type": "string"
            },
            "text/plain": [
              "'0.24.2'"
            ]
          },
          "metadata": {
            "tags": []
          },
          "execution_count": 3
        }
      ]
    },
    {
      "cell_type": "code",
      "metadata": {
        "id": "07zWcrkGIxwn"
      },
      "source": [
        "df1=pd.read_excel('/content/train_dataset.xlsx')"
      ],
      "execution_count": null,
      "outputs": []
    },
    {
      "cell_type": "code",
      "metadata": {
        "id": "Hg9AvZmXpSVO"
      },
      "source": [
        "df=df1.copy()"
      ],
      "execution_count": null,
      "outputs": []
    },
    {
      "cell_type": "code",
      "metadata": {
        "id": "pJPnsPx_I6kR"
      },
      "source": [
        "df[['Survived','Pclass','SibSp','Parch']]=df[['Survived','Pclass','SibSp','Parch']].astype(object)"
      ],
      "execution_count": null,
      "outputs": []
    },
    {
      "cell_type": "code",
      "metadata": {
        "colab": {
          "base_uri": "https://localhost:8080/",
          "height": 173
        },
        "id": "KZQsjisAdXaO",
        "outputId": "aba2eb65-c7a4-4ca3-ff78-f975c1235e02"
      },
      "source": [
        "df.astype(object).describe()"
      ],
      "execution_count": null,
      "outputs": [
        {
          "output_type": "execute_result",
          "data": {
            "text/html": [
              "<div>\n",
              "<style scoped>\n",
              "    .dataframe tbody tr th:only-of-type {\n",
              "        vertical-align: middle;\n",
              "    }\n",
              "\n",
              "    .dataframe tbody tr th {\n",
              "        vertical-align: top;\n",
              "    }\n",
              "\n",
              "    .dataframe thead th {\n",
              "        text-align: right;\n",
              "    }\n",
              "</style>\n",
              "<table border=\"1\" class=\"dataframe\">\n",
              "  <thead>\n",
              "    <tr style=\"text-align: right;\">\n",
              "      <th></th>\n",
              "      <th>PassengerId</th>\n",
              "      <th>Survived</th>\n",
              "      <th>Pclass</th>\n",
              "      <th>Name</th>\n",
              "      <th>Sex</th>\n",
              "      <th>Age</th>\n",
              "      <th>SibSp</th>\n",
              "      <th>Parch</th>\n",
              "      <th>Ticket</th>\n",
              "      <th>Fare</th>\n",
              "      <th>Cabin</th>\n",
              "      <th>Embarked</th>\n",
              "    </tr>\n",
              "  </thead>\n",
              "  <tbody>\n",
              "    <tr>\n",
              "      <th>count</th>\n",
              "      <td>891</td>\n",
              "      <td>891</td>\n",
              "      <td>891</td>\n",
              "      <td>891</td>\n",
              "      <td>891</td>\n",
              "      <td>714.0</td>\n",
              "      <td>891</td>\n",
              "      <td>891</td>\n",
              "      <td>891</td>\n",
              "      <td>891.00</td>\n",
              "      <td>204</td>\n",
              "      <td>889</td>\n",
              "    </tr>\n",
              "    <tr>\n",
              "      <th>unique</th>\n",
              "      <td>891</td>\n",
              "      <td>2</td>\n",
              "      <td>3</td>\n",
              "      <td>891</td>\n",
              "      <td>2</td>\n",
              "      <td>88.0</td>\n",
              "      <td>7</td>\n",
              "      <td>7</td>\n",
              "      <td>681</td>\n",
              "      <td>248.00</td>\n",
              "      <td>147</td>\n",
              "      <td>3</td>\n",
              "    </tr>\n",
              "    <tr>\n",
              "      <th>top</th>\n",
              "      <td>891</td>\n",
              "      <td>0</td>\n",
              "      <td>3</td>\n",
              "      <td>Rogers, Mr. William John</td>\n",
              "      <td>male</td>\n",
              "      <td>24.0</td>\n",
              "      <td>0</td>\n",
              "      <td>0</td>\n",
              "      <td>347082</td>\n",
              "      <td>8.05</td>\n",
              "      <td>G6</td>\n",
              "      <td>S</td>\n",
              "    </tr>\n",
              "    <tr>\n",
              "      <th>freq</th>\n",
              "      <td>1</td>\n",
              "      <td>549</td>\n",
              "      <td>491</td>\n",
              "      <td>1</td>\n",
              "      <td>577</td>\n",
              "      <td>30.0</td>\n",
              "      <td>608</td>\n",
              "      <td>678</td>\n",
              "      <td>7</td>\n",
              "      <td>43.00</td>\n",
              "      <td>4</td>\n",
              "      <td>644</td>\n",
              "    </tr>\n",
              "  </tbody>\n",
              "</table>\n",
              "</div>"
            ],
            "text/plain": [
              "        PassengerId  Survived  Pclass  ...    Fare Cabin  Embarked\n",
              "count           891       891     891  ...  891.00   204       889\n",
              "unique          891         2       3  ...  248.00   147         3\n",
              "top             891         0       3  ...    8.05    G6         S\n",
              "freq              1       549     491  ...   43.00     4       644\n",
              "\n",
              "[4 rows x 12 columns]"
            ]
          },
          "metadata": {},
          "execution_count": 36
        }
      ]
    },
    {
      "cell_type": "code",
      "metadata": {
        "id": "EETQTvQEXddh"
      },
      "source": [
        "encoder=OneHotEncoder()"
      ],
      "execution_count": null,
      "outputs": []
    },
    {
      "cell_type": "code",
      "metadata": {
        "colab": {
          "base_uri": "https://localhost:8080/"
        },
        "id": "DapVSS6vI8gh",
        "outputId": "c7525403-2485-42e5-cebe-338b6c699150"
      },
      "source": [
        "df.isnull().sum()"
      ],
      "execution_count": null,
      "outputs": [
        {
          "output_type": "execute_result",
          "data": {
            "text/plain": [
              "Pclass        0\n",
              "Sex           0\n",
              "Age         177\n",
              "SibSp         0\n",
              "Parch         0\n",
              "Ticket        0\n",
              "Fare          0\n",
              "Embarked      2\n",
              "dtype: int64"
            ]
          },
          "metadata": {},
          "execution_count": 48
        }
      ]
    },
    {
      "cell_type": "code",
      "metadata": {
        "colab": {
          "base_uri": "https://localhost:8080/"
        },
        "id": "iqcP_b5bJAuA",
        "outputId": "5d19d31c-e73c-436a-ad44-268c86713970"
      },
      "source": [
        "df.info()"
      ],
      "execution_count": null,
      "outputs": [
        {
          "output_type": "stream",
          "name": "stdout",
          "text": [
            "<class 'pandas.core.frame.DataFrame'>\n",
            "RangeIndex: 891 entries, 0 to 890\n",
            "Data columns (total 11 columns):\n",
            " #   Column       Non-Null Count  Dtype  \n",
            "---  ------       --------------  -----  \n",
            " 0   PassengerId  891 non-null    int64  \n",
            " 1   Pclass       891 non-null    object \n",
            " 2   Name         891 non-null    object \n",
            " 3   Sex          891 non-null    object \n",
            " 4   Age          714 non-null    float64\n",
            " 5   SibSp        891 non-null    object \n",
            " 6   Parch        891 non-null    object \n",
            " 7   Ticket       891 non-null    object \n",
            " 8   Fare         891 non-null    float64\n",
            " 9   Cabin        204 non-null    object \n",
            " 10  Embarked     891 non-null    object \n",
            "dtypes: float64(2), int64(1), object(8)\n",
            "memory usage: 76.7+ KB\n"
          ]
        }
      ]
    },
    {
      "cell_type": "code",
      "metadata": {
        "id": "A9y0xVg_KBW6"
      },
      "source": [
        "y=df['Survived']\n",
        "df.drop('Survived',axis=1,inplace=True)"
      ],
      "execution_count": null,
      "outputs": []
    },
    {
      "cell_type": "code",
      "metadata": {
        "id": "uEYZMjf9OOdK"
      },
      "source": [
        "df['Age']=df.Age.fillna(df.Age.mean())\n",
        "#df['Embarked']=df['Embarked'].fillna('S')\n"
      ],
      "execution_count": null,
      "outputs": []
    },
    {
      "cell_type": "code",
      "metadata": {
        "id": "ykURAYt3OgwB"
      },
      "source": [
        "df.drop(['Name','PassengerId'],axis=1,inplace=True)"
      ],
      "execution_count": null,
      "outputs": []
    },
    {
      "cell_type": "code",
      "metadata": {
        "id": "MOCXe6yVAn-P"
      },
      "source": [
        "#df.drop('Cabin',axis=1,inplace=True)"
      ],
      "execution_count": null,
      "outputs": []
    },
    {
      "cell_type": "code",
      "metadata": {
        "id": "UYII4-exJSG9"
      },
      "source": [
        "train_x,test_x,train_y,test_y=train_test_split(df,y,test_size=.2)"
      ],
      "execution_count": null,
      "outputs": []
    },
    {
      "cell_type": "code",
      "metadata": {
        "id": "VxddUYj6tOjb"
      },
      "source": [
        ",('encoder2',ce.OneHotEncoder())"
      ],
      "execution_count": null,
      "outputs": []
    },
    {
      "cell_type": "code",
      "metadata": {
        "id": "gBufOK87flm_"
      },
      "source": [
        "pipeline1=Pipeline([('encoder1',ce.OrdinalEncoder()),('imputer1',KNNImputer()),('encoder2',OneHotEncoder())])"
      ],
      "execution_count": null,
      "outputs": []
    },
    {
      "cell_type": "code",
      "metadata": {
        "colab": {
          "base_uri": "https://localhost:8080/"
        },
        "id": "KFObnRQwthEz",
        "outputId": "aabe2221-5a43-4abb-e507-6fac0d05e25d"
      },
      "source": [
        "temp=ce.OneHotEncoder()\n",
        "print(temp.fit_transform.__doc__)"
      ],
      "execution_count": null,
      "outputs": [
        {
          "output_type": "stream",
          "name": "stdout",
          "text": [
            "\n",
            "        Fit to data, then transform it.\n",
            "\n",
            "        Fits transformer to X and y with optional parameters fit_params\n",
            "        and returns a transformed version of X.\n",
            "\n",
            "        Parameters\n",
            "        ----------\n",
            "        X : numpy array of shape [n_samples, n_features]\n",
            "            Training set.\n",
            "\n",
            "        y : numpy array of shape [n_samples]\n",
            "            Target values.\n",
            "\n",
            "        **fit_params : dict\n",
            "            Additional fit parameters.\n",
            "\n",
            "        Returns\n",
            "        -------\n",
            "        X_new : numpy array of shape [n_samples, n_features_new]\n",
            "            Transformed array.\n",
            "        \n"
          ]
        }
      ]
    },
    {
      "cell_type": "code",
      "metadata": {
        "id": "RyE7omdNxabV"
      },
      "source": [
        "class A:\n",
        "  ''' this is class A'''\n",
        "  obj=['pawan']\n",
        "  def __init__(self):\n",
        "\n",
        "    print('object created',self)\n",
        "    self.obj.append(self)\n",
        "  @enhanceprint\n",
        "  def print_objects(self):\n",
        "    print('ordianary')\n",
        "  def __call__(func):\n",
        "    def enhanceprint():\n",
        "      print('I have enhanced ')\n"
      ],
      "execution_count": null,
      "outputs": []
    },
    {
      "cell_type": "code",
      "metadata": {
        "id": "-s715Uj61Rs8"
      },
      "source": [
        "def enhanceprint(func):\n",
        "  def inner(*args,**kwargs):\n",
        "    print('enhanced')\n",
        "    func(args[0])\n",
        "  return inner\n"
      ],
      "execution_count": null,
      "outputs": []
    },
    {
      "cell_type": "code",
      "metadata": {
        "id": "10J4QggLxeVv"
      },
      "source": [
        "@enhanceprint\n",
        "def printme():\n",
        "  print('I am ordinary')"
      ],
      "execution_count": null,
      "outputs": []
    },
    {
      "cell_type": "code",
      "metadata": {
        "colab": {
          "base_uri": "https://localhost:8080/"
        },
        "id": "9vVjsRUsz2uk",
        "outputId": "a8972f23-19c2-4f51-ccd5-e19dfdf69e35"
      },
      "source": [
        "A().print_objects()"
      ],
      "execution_count": null,
      "outputs": [
        {
          "output_type": "stream",
          "name": "stdout",
          "text": [
            "object created <__main__.A object at 0x7f5c194a2790>\n",
            "enhanced\n",
            "ordianary\n"
          ]
        }
      ]
    },
    {
      "cell_type": "code",
      "metadata": {
        "colab": {
          "base_uri": "https://localhost:8080/"
        },
        "id": "RvgsPIq3tSFS",
        "outputId": "23b1bb0b-63c5-4208-c463-3555c589f807"
      },
      "source": [
        "OneHotEncoder().fit_transform(temp)"
      ],
      "execution_count": null,
      "outputs": [
        {
          "output_type": "execute_result",
          "data": {
            "text/plain": [
              "<712x1098 sparse matrix of type '<class 'numpy.float64'>'\n",
              "\twith 6408 stored elements in Compressed Sparse Row format>"
            ]
          },
          "metadata": {},
          "execution_count": 25
        }
      ]
    },
    {
      "cell_type": "code",
      "metadata": {
        "id": "3YvQACmVgVKi"
      },
      "source": [
        "temp=df.select_dtypes(object).astype(str)\n",
        "df[df.select_dtypes(object).columns]=temp"
      ],
      "execution_count": null,
      "outputs": []
    },
    {
      "cell_type": "code",
      "metadata": {
        "id": "hedTnw3NgRfQ"
      },
      "source": [
        ",('num',StandardScaler(),selector(dtype_exclude=object))"
      ],
      "execution_count": null,
      "outputs": []
    },
    {
      "cell_type": "code",
      "metadata": {
        "id": "5wE4opQYKRVk"
      },
      "source": [
        "transformer=ColumnTransformer([('pipe1',pipeline1,selector(dtype_include=object))])\n",
        "#ColumnTransformer([('cat',pipeline1,selector(dtype_include=object))])"
      ],
      "execution_count": null,
      "outputs": []
    },
    {
      "cell_type": "code",
      "metadata": {
        "id": "FMTJy77lgEXu"
      },
      "source": [
        "transformer.fit_transform(train_x)"
      ],
      "execution_count": null,
      "outputs": []
    },
    {
      "cell_type": "code",
      "metadata": {
        "id": "KUajs1uxQfbj"
      },
      "source": [
        "model=DecisionTreeClassifier()\n",
        "model1=RandomForestClassifier(n_estimators=50,max_depth=3)\n",
        "pipeline=make_pipeline(transformer,model1)"
      ],
      "execution_count": null,
      "outputs": []
    },
    {
      "cell_type": "code",
      "metadata": {
        "id": "acrKSxug2qb8"
      },
      "source": [
        "sns.countplot('Survived',data=y.to_frame())"
      ],
      "execution_count": null,
      "outputs": []
    },
    {
      "cell_type": "code",
      "metadata": {
        "id": "99h2PafgqMWd"
      },
      "source": [
        "import warnings\n",
        "warnings.filterwarnings('ignore')"
      ],
      "execution_count": null,
      "outputs": []
    },
    {
      "cell_type": "code",
      "metadata": {
        "id": "JfaenV4YQ55d"
      },
      "source": [
        "pipeline.fit(train_x,train_y)"
      ],
      "execution_count": null,
      "outputs": []
    },
    {
      "cell_type": "code",
      "metadata": {
        "id": "pjyZ6h9MA57j"
      },
      "source": [
        "pipeline.predict(test_x)"
      ],
      "execution_count": null,
      "outputs": []
    },
    {
      "cell_type": "code",
      "metadata": {
        "colab": {
          "base_uri": "https://localhost:8080/"
        },
        "id": "XjBjJ0ChMGnS",
        "outputId": "e7ffa9bd-8025-4b15-8247-ff10d38d5812"
      },
      "source": [
        "'training score: {0}'.format(pipeline.score(train_x,train_y)),'testing score: {0}'.format( pipeline.score(test_x,test_y))"
      ],
      "execution_count": null,
      "outputs": [
        {
          "output_type": "execute_result",
          "data": {
            "text/plain": [
              "('training score: 0.7837078651685393', 'testing score: 0.8324022346368715')"
            ]
          },
          "metadata": {
            "tags": []
          },
          "execution_count": 28
        }
      ]
    },
    {
      "cell_type": "code",
      "metadata": {
        "colab": {
          "base_uri": "https://localhost:8080/"
        },
        "id": "zie3gh5iNsVY",
        "outputId": "397d5e8c-9914-4c71-b38e-639be1aa2c79"
      },
      "source": [
        "train_x.info()"
      ],
      "execution_count": null,
      "outputs": [
        {
          "output_type": "stream",
          "text": [
            "<class 'pandas.core.frame.DataFrame'>\n",
            "Int64Index: 712 entries, 539 to 275\n",
            "Data columns (total 8 columns):\n",
            " #   Column    Non-Null Count  Dtype  \n",
            "---  ------    --------------  -----  \n",
            " 0   Pclass    712 non-null    object \n",
            " 1   Sex       712 non-null    object \n",
            " 2   Age       712 non-null    float64\n",
            " 3   SibSp     712 non-null    object \n",
            " 4   Parch     712 non-null    object \n",
            " 5   Ticket    712 non-null    object \n",
            " 6   Fare      712 non-null    float64\n",
            " 7   Embarked  712 non-null    object \n",
            "dtypes: float64(2), object(6)\n",
            "memory usage: 50.1+ KB\n"
          ],
          "name": "stdout"
        }
      ]
    },
    {
      "cell_type": "code",
      "metadata": {
        "id": "4uvbTTDSrKAG"
      },
      "source": [
        "from sklearn.model_selection import GridSearchCV"
      ],
      "execution_count": null,
      "outputs": []
    },
    {
      "cell_type": "code",
      "metadata": {
        "colab": {
          "base_uri": "https://localhost:8080/"
        },
        "id": "0MNTz8LSrahq",
        "outputId": "94a36294-805e-4321-8e2c-a798633da526"
      },
      "source": [
        "pipeline.get_params()"
      ],
      "execution_count": null,
      "outputs": [
        {
          "output_type": "execute_result",
          "data": {
            "text/plain": [
              "{'columntransformer': ColumnTransformer(n_jobs=None, remainder='drop', sparse_threshold=0.3,\n",
              "                   transformer_weights=None,\n",
              "                   transformers=[('cat',\n",
              "                                  BinaryEncoder(cols=None, drop_invariant=False,\n",
              "                                                handle_missing='value',\n",
              "                                                handle_unknown='value',\n",
              "                                                mapping=None, return_df=True,\n",
              "                                                verbose=0),\n",
              "                                  <sklearn.compose._column_transformer.make_column_selector object at 0x7faf62593990>),\n",
              "                                 ('num',\n",
              "                                  StandardScaler(copy=True, with_mean=True,\n",
              "                                                 with_std=True),\n",
              "                                  <sklearn.compose._column_transformer.make_column_selector object at 0x7faf622bba90>)],\n",
              "                   verbose=False),\n",
              " 'columntransformer__cat': BinaryEncoder(cols=None, drop_invariant=False, handle_missing='value',\n",
              "               handle_unknown='value', mapping=None, return_df=True, verbose=0),\n",
              " 'columntransformer__cat__cols': None,\n",
              " 'columntransformer__cat__drop_invariant': False,\n",
              " 'columntransformer__cat__handle_missing': 'value',\n",
              " 'columntransformer__cat__handle_unknown': 'value',\n",
              " 'columntransformer__cat__mapping': None,\n",
              " 'columntransformer__cat__return_df': True,\n",
              " 'columntransformer__cat__verbose': 0,\n",
              " 'columntransformer__n_jobs': None,\n",
              " 'columntransformer__num': StandardScaler(copy=True, with_mean=True, with_std=True),\n",
              " 'columntransformer__num__copy': True,\n",
              " 'columntransformer__num__with_mean': True,\n",
              " 'columntransformer__num__with_std': True,\n",
              " 'columntransformer__remainder': 'drop',\n",
              " 'columntransformer__sparse_threshold': 0.3,\n",
              " 'columntransformer__transformer_weights': None,\n",
              " 'columntransformer__transformers': [('cat',\n",
              "   BinaryEncoder(cols=None, drop_invariant=False, handle_missing='value',\n",
              "                 handle_unknown='value', mapping=None, return_df=True, verbose=0),\n",
              "   <sklearn.compose._column_transformer.make_column_selector at 0x7faf62593990>),\n",
              "  ('num',\n",
              "   StandardScaler(copy=True, with_mean=True, with_std=True),\n",
              "   <sklearn.compose._column_transformer.make_column_selector at 0x7faf622bba90>)],\n",
              " 'columntransformer__verbose': False,\n",
              " 'memory': None,\n",
              " 'randomforestclassifier': RandomForestClassifier(bootstrap=True, ccp_alpha=0.0, class_weight=None,\n",
              "                        criterion='gini', max_depth=3, max_features='auto',\n",
              "                        max_leaf_nodes=None, max_samples=None,\n",
              "                        min_impurity_decrease=0.0, min_impurity_split=None,\n",
              "                        min_samples_leaf=1, min_samples_split=2,\n",
              "                        min_weight_fraction_leaf=0.0, n_estimators=50,\n",
              "                        n_jobs=None, oob_score=False, random_state=None,\n",
              "                        verbose=0, warm_start=False),\n",
              " 'randomforestclassifier__bootstrap': True,\n",
              " 'randomforestclassifier__ccp_alpha': 0.0,\n",
              " 'randomforestclassifier__class_weight': None,\n",
              " 'randomforestclassifier__criterion': 'gini',\n",
              " 'randomforestclassifier__max_depth': 3,\n",
              " 'randomforestclassifier__max_features': 'auto',\n",
              " 'randomforestclassifier__max_leaf_nodes': None,\n",
              " 'randomforestclassifier__max_samples': None,\n",
              " 'randomforestclassifier__min_impurity_decrease': 0.0,\n",
              " 'randomforestclassifier__min_impurity_split': None,\n",
              " 'randomforestclassifier__min_samples_leaf': 1,\n",
              " 'randomforestclassifier__min_samples_split': 2,\n",
              " 'randomforestclassifier__min_weight_fraction_leaf': 0.0,\n",
              " 'randomforestclassifier__n_estimators': 50,\n",
              " 'randomforestclassifier__n_jobs': None,\n",
              " 'randomforestclassifier__oob_score': False,\n",
              " 'randomforestclassifier__random_state': None,\n",
              " 'randomforestclassifier__verbose': 0,\n",
              " 'randomforestclassifier__warm_start': False,\n",
              " 'steps': [('columntransformer',\n",
              "   ColumnTransformer(n_jobs=None, remainder='drop', sparse_threshold=0.3,\n",
              "                     transformer_weights=None,\n",
              "                     transformers=[('cat',\n",
              "                                    BinaryEncoder(cols=None, drop_invariant=False,\n",
              "                                                  handle_missing='value',\n",
              "                                                  handle_unknown='value',\n",
              "                                                  mapping=None, return_df=True,\n",
              "                                                  verbose=0),\n",
              "                                    <sklearn.compose._column_transformer.make_column_selector object at 0x7faf62593990>),\n",
              "                                   ('num',\n",
              "                                    StandardScaler(copy=True, with_mean=True,\n",
              "                                                   with_std=True),\n",
              "                                    <sklearn.compose._column_transformer.make_column_selector object at 0x7faf622bba90>)],\n",
              "                     verbose=False)),\n",
              "  ('randomforestclassifier',\n",
              "   RandomForestClassifier(bootstrap=True, ccp_alpha=0.0, class_weight=None,\n",
              "                          criterion='gini', max_depth=3, max_features='auto',\n",
              "                          max_leaf_nodes=None, max_samples=None,\n",
              "                          min_impurity_decrease=0.0, min_impurity_split=None,\n",
              "                          min_samples_leaf=1, min_samples_split=2,\n",
              "                          min_weight_fraction_leaf=0.0, n_estimators=50,\n",
              "                          n_jobs=None, oob_score=False, random_state=None,\n",
              "                          verbose=0, warm_start=False))],\n",
              " 'verbose': False}"
            ]
          },
          "metadata": {
            "tags": []
          },
          "execution_count": 30
        }
      ]
    },
    {
      "cell_type": "code",
      "metadata": {
        "id": "VS4I-t69rPiJ"
      },
      "source": [
        "grid=GridSearchCV(pipeline,param_grid={'randomforestclassifier__max_depth':[3,4,5]})"
      ],
      "execution_count": null,
      "outputs": []
    },
    {
      "cell_type": "code",
      "metadata": {
        "id": "umzdbc1uOCkp"
      },
      "source": [
        "sns.heatmap(df1.corr())"
      ],
      "execution_count": null,
      "outputs": []
    },
    {
      "cell_type": "code",
      "metadata": {
        "colab": {
          "base_uri": "https://localhost:8080/",
          "height": 141
        },
        "id": "2ds3Ox91OXMc",
        "outputId": "7bcb0a43-caa0-48e9-e4ef-1c9db8c2f2ef"
      },
      "source": [
        "pd.crosstab(df.Sex,df.Embarked,normalize=True)"
      ],
      "execution_count": null,
      "outputs": [
        {
          "output_type": "execute_result",
          "data": {
            "text/html": [
              "<div>\n",
              "<style scoped>\n",
              "    .dataframe tbody tr th:only-of-type {\n",
              "        vertical-align: middle;\n",
              "    }\n",
              "\n",
              "    .dataframe tbody tr th {\n",
              "        vertical-align: top;\n",
              "    }\n",
              "\n",
              "    .dataframe thead th {\n",
              "        text-align: right;\n",
              "    }\n",
              "</style>\n",
              "<table border=\"1\" class=\"dataframe\">\n",
              "  <thead>\n",
              "    <tr style=\"text-align: right;\">\n",
              "      <th>Embarked</th>\n",
              "      <th>C</th>\n",
              "      <th>Q</th>\n",
              "      <th>S</th>\n",
              "    </tr>\n",
              "    <tr>\n",
              "      <th>Sex</th>\n",
              "      <th></th>\n",
              "      <th></th>\n",
              "      <th></th>\n",
              "    </tr>\n",
              "  </thead>\n",
              "  <tbody>\n",
              "    <tr>\n",
              "      <th>female</th>\n",
              "      <td>0.082115</td>\n",
              "      <td>0.040495</td>\n",
              "      <td>0.228346</td>\n",
              "    </tr>\n",
              "    <tr>\n",
              "      <th>male</th>\n",
              "      <td>0.106862</td>\n",
              "      <td>0.046119</td>\n",
              "      <td>0.496063</td>\n",
              "    </tr>\n",
              "  </tbody>\n",
              "</table>\n",
              "</div>"
            ],
            "text/plain": [
              "Embarked         C         Q         S\n",
              "Sex                                   \n",
              "female    0.082115  0.040495  0.228346\n",
              "male      0.106862  0.046119  0.496063"
            ]
          },
          "metadata": {
            "tags": []
          },
          "execution_count": 106
        }
      ]
    },
    {
      "cell_type": "code",
      "metadata": {
        "colab": {
          "base_uri": "https://localhost:8080/"
        },
        "id": "PmvBseB1OmOd",
        "outputId": "e8aafe0a-e506-46a4-c28e-7728ad1ac2c3"
      },
      "source": [
        "grid.fit(train_x,train_y)"
      ],
      "execution_count": null,
      "outputs": [
        {
          "output_type": "execute_result",
          "data": {
            "text/plain": [
              "GridSearchCV(cv=None, error_score=nan,\n",
              "             estimator=Pipeline(memory=None,\n",
              "                                steps=[('columntransformer',\n",
              "                                        ColumnTransformer(n_jobs=None,\n",
              "                                                          remainder='drop',\n",
              "                                                          sparse_threshold=0.3,\n",
              "                                                          transformer_weights=None,\n",
              "                                                          transformers=[('cat',\n",
              "                                                                         BinaryEncoder(cols=None,\n",
              "                                                                                       drop_invariant=False,\n",
              "                                                                                       handle_missing='value',\n",
              "                                                                                       handle_unknown='value',\n",
              "                                                                                       mapping=None,\n",
              "                                                                                       return_df=True,\n",
              "                                                                                       verbose=0),\n",
              "                                                                         <sklearn.c...\n",
              "                                                               min_impurity_split=None,\n",
              "                                                               min_samples_leaf=1,\n",
              "                                                               min_samples_split=2,\n",
              "                                                               min_weight_fraction_leaf=0.0,\n",
              "                                                               n_estimators=50,\n",
              "                                                               n_jobs=None,\n",
              "                                                               oob_score=False,\n",
              "                                                               random_state=None,\n",
              "                                                               verbose=0,\n",
              "                                                               warm_start=False))],\n",
              "                                verbose=False),\n",
              "             iid='deprecated', n_jobs=None,\n",
              "             param_grid={'randomforestclassifier__max_depth': [3, 4, 5]},\n",
              "             pre_dispatch='2*n_jobs', refit=True, return_train_score=False,\n",
              "             scoring=None, verbose=0)"
            ]
          },
          "metadata": {
            "tags": []
          },
          "execution_count": 33
        }
      ]
    },
    {
      "cell_type": "code",
      "metadata": {
        "colab": {
          "base_uri": "https://localhost:8080/"
        },
        "id": "rj3y_4PPOymc",
        "outputId": "20558499-09cd-466e-d56f-2bed3ba5ab89"
      },
      "source": [
        "grid.best_score_"
      ],
      "execution_count": null,
      "outputs": [
        {
          "output_type": "execute_result",
          "data": {
            "text/plain": [
              "0.810371318822023"
            ]
          },
          "metadata": {
            "tags": []
          },
          "execution_count": 35
        }
      ]
    },
    {
      "cell_type": "code",
      "metadata": {
        "id": "pZyvqPvOP3mD"
      },
      "source": [
        "import pickle"
      ],
      "execution_count": null,
      "outputs": []
    },
    {
      "cell_type": "code",
      "metadata": {
        "id": "p3Xe6TZJP67m"
      },
      "source": [
        "file=open('model.pkl','wb')\n",
        "pickle.dump(model,file)"
      ],
      "execution_count": null,
      "outputs": []
    },
    {
      "cell_type": "code",
      "metadata": {
        "id": "p4YcXxg7QFg4"
      },
      "source": [
        "from datetime import datetime"
      ],
      "execution_count": null,
      "outputs": []
    },
    {
      "cell_type": "code",
      "metadata": {
        "colab": {
          "base_uri": "https://localhost:8080/",
          "height": 35
        },
        "id": "VFtYwsmpnA_J",
        "outputId": "9ff5ed2b-e77c-4421-a8d6-d5d060b9bd59"
      },
      "source": [
        "datetime.strftime(datetime.today(),format='%m')"
      ],
      "execution_count": null,
      "outputs": [
        {
          "output_type": "execute_result",
          "data": {
            "application/vnd.google.colaboratory.intrinsic+json": {
              "type": "string"
            },
            "text/plain": [
              "'07'"
            ]
          },
          "metadata": {
            "tags": []
          },
          "execution_count": 20
        }
      ]
    },
    {
      "cell_type": "code",
      "metadata": {
        "id": "2uk8jTViTAwv"
      },
      "source": [
        ""
      ],
      "execution_count": null,
      "outputs": []
    },
    {
      "cell_type": "code",
      "metadata": {
        "colab": {
          "base_uri": "https://localhost:8080/"
        },
        "id": "U76z15PtqN7t",
        "outputId": "4e00acdd-8a97-473f-da09-0687fdf59e61"
      },
      "source": [
        "datetime.strptime('04-05-2023','%d-%m-%Y')"
      ],
      "execution_count": null,
      "outputs": [
        {
          "output_type": "execute_result",
          "data": {
            "text/plain": [
              "datetime.datetime(2023, 5, 4, 0, 0)"
            ]
          },
          "metadata": {
            "tags": []
          },
          "execution_count": 22
        }
      ]
    },
    {
      "cell_type": "code",
      "metadata": {
        "id": "xVni0sB4qb7l"
      },
      "source": [
        "df=pd.read_csv('Instagram_Data.csv')"
      ],
      "execution_count": null,
      "outputs": []
    },
    {
      "cell_type": "code",
      "metadata": {
        "colab": {
          "base_uri": "https://localhost:8080/"
        },
        "id": "msyL6avgsALi",
        "outputId": "00ff1fa9-5c98-4a84-b899-6b9bc62b3510"
      },
      "source": [
        "pd.to_datetime(df['Date Posted'],format='%Y-%m-%d %H:%M:%S')"
      ],
      "execution_count": null,
      "outputs": [
        {
          "output_type": "execute_result",
          "data": {
            "text/plain": [
              "0       2019-05-12 21:18:39\n",
              "1       2019-05-12 14:25:55\n",
              "2       2019-05-03 15:18:37\n",
              "3       2019-05-02 16:40:38\n",
              "4       2019-04-25 16:51:58\n",
              "                ...        \n",
              "80219   2018-10-22 19:58:36\n",
              "80220   2018-10-21 03:47:34\n",
              "80221   2018-10-04 16:31:43\n",
              "80222   2018-09-30 00:32:20\n",
              "80223                   NaT\n",
              "Name: Date Posted, Length: 80224, dtype: datetime64[ns]"
            ]
          },
          "metadata": {
            "tags": []
          },
          "execution_count": 59
        }
      ]
    },
    {
      "cell_type": "code",
      "metadata": {
        "id": "iXnnpU9-suN7"
      },
      "source": [
        "from dateutil import parser\n",
        "df['Date Posted'].fillna('2019-05-12',inplace=True)"
      ],
      "execution_count": null,
      "outputs": []
    },
    {
      "cell_type": "code",
      "metadata": {
        "colab": {
          "base_uri": "https://localhost:8080/"
        },
        "id": "gAqXcCJu7w8y",
        "outputId": "6de19dce-40dc-4313-f83c-6f61e951dbe0"
      },
      "source": [
        "df.set_index((pd.to _datetime(df[\"Date Posted\"]))).loc[\"2019-05\":\"2019-06\",'Type']"
      ],
      "execution_count": null,
      "outputs": [
        {
          "output_type": "execute_result",
          "data": {
            "text/plain": [
              "Date Posted\n",
              "2019-05-12 21:18:39     Image\n",
              "2019-05-12 14:25:55     Image\n",
              "2019-05-03 15:18:37    Images\n",
              "2019-05-02 16:40:38    Images\n",
              "2019-06-30 16:39:44    Images\n",
              "                        ...  \n",
              "2019-05-19 08:12:43     Image\n",
              "2019-05-19 03:59:12     Image\n",
              "2019-05-10 21:24:53     Image\n",
              "2019-05-10 16:14:11     Image\n",
              "2019-05-12 00:00:00       Ima\n",
              "Name: Type, Length: 2247, dtype: object"
            ]
          },
          "metadata": {
            "tags": []
          },
          "execution_count": 98
        }
      ]
    },
    {
      "cell_type": "code",
      "metadata": {
        "colab": {
          "base_uri": "https://localhost:8080/"
        },
        "id": "Pye0VV046rl9",
        "outputId": "5c2ffb1d-478b-47c3-efc1-24705fbd4aa0"
      },
      "source": [
        "!pip install python-dateutil\n"
      ],
      "execution_count": null,
      "outputs": [
        {
          "output_type": "stream",
          "text": [
            "Requirement already satisfied: python-dateutil in /usr/local/lib/python3.7/dist-packages (2.8.1)\n",
            "Requirement already satisfied: six>=1.5 in /usr/local/lib/python3.7/dist-packages (from python-dateutil) (1.15.0)\n"
          ],
          "name": "stdout"
        }
      ]
    },
    {
      "cell_type": "code",
      "metadata": {
        "colab": {
          "base_uri": "https://localhost:8080/",
          "height": 202
        },
        "id": "gusxVBccWtov",
        "outputId": "80a5d63f-7ade-4ec0-ca0c-3b2d03fa2451"
      },
      "source": [
        "df.head()"
      ],
      "execution_count": null,
      "outputs": [
        {
          "output_type": "execute_result",
          "data": {
            "text/html": [
              "<div>\n",
              "<style scoped>\n",
              "    .dataframe tbody tr th:only-of-type {\n",
              "        vertical-align: middle;\n",
              "    }\n",
              "\n",
              "    .dataframe tbody tr th {\n",
              "        vertical-align: top;\n",
              "    }\n",
              "\n",
              "    .dataframe thead th {\n",
              "        text-align: right;\n",
              "    }\n",
              "</style>\n",
              "<table border=\"1\" class=\"dataframe\">\n",
              "  <thead>\n",
              "    <tr style=\"text-align: right;\">\n",
              "      <th></th>\n",
              "      <th>User uuid</th>\n",
              "      <th>Likes</th>\n",
              "      <th>Days passed from post</th>\n",
              "      <th>Likes Score</th>\n",
              "      <th>Type</th>\n",
              "      <th>Numer of Tags</th>\n",
              "      <th>Numer of Comments</th>\n",
              "      <th>Date Posted</th>\n",
              "      <th>Year</th>\n",
              "      <th>Month</th>\n",
              "      <th>Day</th>\n",
              "      <th>Hour</th>\n",
              "      <th>Minute</th>\n",
              "    </tr>\n",
              "  </thead>\n",
              "  <tbody>\n",
              "    <tr>\n",
              "      <th>0</th>\n",
              "      <td>1</td>\n",
              "      <td>506</td>\n",
              "      <td>657</td>\n",
              "      <td>0.74</td>\n",
              "      <td>Image</td>\n",
              "      <td>3</td>\n",
              "      <td>11</td>\n",
              "      <td>2019-05-12 21:18:39</td>\n",
              "      <td>2019</td>\n",
              "      <td>5</td>\n",
              "      <td>12</td>\n",
              "      <td>21</td>\n",
              "      <td>18</td>\n",
              "    </tr>\n",
              "    <tr>\n",
              "      <th>1</th>\n",
              "      <td>1</td>\n",
              "      <td>385</td>\n",
              "      <td>657</td>\n",
              "      <td>0.57</td>\n",
              "      <td>Image</td>\n",
              "      <td>0</td>\n",
              "      <td>1</td>\n",
              "      <td>2019-05-12 14:25:55</td>\n",
              "      <td>2019</td>\n",
              "      <td>5</td>\n",
              "      <td>12</td>\n",
              "      <td>14</td>\n",
              "      <td>25</td>\n",
              "    </tr>\n",
              "    <tr>\n",
              "      <th>2</th>\n",
              "      <td>1</td>\n",
              "      <td>373</td>\n",
              "      <td>666</td>\n",
              "      <td>0.55</td>\n",
              "      <td>Images</td>\n",
              "      <td>4</td>\n",
              "      <td>15</td>\n",
              "      <td>2019-05-03 15:18:37</td>\n",
              "      <td>2019</td>\n",
              "      <td>5</td>\n",
              "      <td>3</td>\n",
              "      <td>15</td>\n",
              "      <td>18</td>\n",
              "    </tr>\n",
              "    <tr>\n",
              "      <th>3</th>\n",
              "      <td>1</td>\n",
              "      <td>312</td>\n",
              "      <td>667</td>\n",
              "      <td>0.46</td>\n",
              "      <td>Images</td>\n",
              "      <td>4</td>\n",
              "      <td>1</td>\n",
              "      <td>2019-05-02 16:40:38</td>\n",
              "      <td>2019</td>\n",
              "      <td>5</td>\n",
              "      <td>2</td>\n",
              "      <td>16</td>\n",
              "      <td>40</td>\n",
              "    </tr>\n",
              "    <tr>\n",
              "      <th>4</th>\n",
              "      <td>1</td>\n",
              "      <td>513</td>\n",
              "      <td>674</td>\n",
              "      <td>0.75</td>\n",
              "      <td>Images</td>\n",
              "      <td>5</td>\n",
              "      <td>0</td>\n",
              "      <td>2019-04-25 16:51:58</td>\n",
              "      <td>2019</td>\n",
              "      <td>4</td>\n",
              "      <td>25</td>\n",
              "      <td>16</td>\n",
              "      <td>51</td>\n",
              "    </tr>\n",
              "  </tbody>\n",
              "</table>\n",
              "</div>"
            ],
            "text/plain": [
              "   User uuid  Likes  Days passed from post  ...  Day Hour  Minute\n",
              "0          1    506                    657  ...   12   21      18\n",
              "1          1    385                    657  ...   12   14      25\n",
              "2          1    373                    666  ...    3   15      18\n",
              "3          1    312                    667  ...    2   16      40\n",
              "4          1    513                    674  ...   25   16      51\n",
              "\n",
              "[5 rows x 13 columns]"
            ]
          },
          "metadata": {
            "tags": []
          },
          "execution_count": 17
        }
      ]
    },
    {
      "cell_type": "code",
      "metadata": {
        "id": "1EblOVHwTCHp"
      },
      "source": [
        "bin_encod=ce.BinaryEncoder(drop_invariant=True)"
      ],
      "execution_count": null,
      "outputs": []
    },
    {
      "cell_type": "code",
      "metadata": {
        "id": "-GdXPFEyg6su"
      },
      "source": [
        "one,two=train_test_split(df1.Ticket,test_size=.1)"
      ],
      "execution_count": null,
      "outputs": []
    },
    {
      "cell_type": "code",
      "metadata": {
        "colab": {
          "base_uri": "https://localhost:8080/"
        },
        "id": "ShJELBsHgzvK",
        "outputId": "a7138fea-0a54-484a-ae8c-fa20b78405aa"
      },
      "source": [
        "bin_encod.fit(one)"
      ],
      "execution_count": null,
      "outputs": [
        {
          "output_type": "stream",
          "text": [
            "/usr/local/lib/python3.7/dist-packages/category_encoders/utils.py:21: FutureWarning: is_categorical is deprecated and will be removed in a future version.  Use is_categorical_dtype instead\n",
            "  elif pd.api.types.is_categorical(cols):\n"
          ],
          "name": "stderr"
        },
        {
          "output_type": "execute_result",
          "data": {
            "text/plain": [
              "BinaryEncoder(cols=None, drop_invariant=True, handle_missing='value',\n",
              "              handle_unknown='value', mapping=None, return_df=True, verbose=0)"
            ]
          },
          "metadata": {
            "tags": []
          },
          "execution_count": 93
        }
      ]
    },
    {
      "cell_type": "code",
      "metadata": {
        "colab": {
          "base_uri": "https://localhost:8080/",
          "height": 415
        },
        "id": "0h0fDZsshJ-q",
        "outputId": "38b6edba-d184-475a-f6b3-a167e39e601c"
      },
      "source": [
        "bin_encod.transform(one)"
      ],
      "execution_count": null,
      "outputs": [
        {
          "output_type": "execute_result",
          "data": {
            "text/html": [
              "<div>\n",
              "<style scoped>\n",
              "    .dataframe tbody tr th:only-of-type {\n",
              "        vertical-align: middle;\n",
              "    }\n",
              "\n",
              "    .dataframe tbody tr th {\n",
              "        vertical-align: top;\n",
              "    }\n",
              "\n",
              "    .dataframe thead th {\n",
              "        text-align: right;\n",
              "    }\n",
              "</style>\n",
              "<table border=\"1\" class=\"dataframe\">\n",
              "  <thead>\n",
              "    <tr style=\"text-align: right;\">\n",
              "      <th></th>\n",
              "      <th>Ticket_1</th>\n",
              "      <th>Ticket_2</th>\n",
              "      <th>Ticket_3</th>\n",
              "      <th>Ticket_4</th>\n",
              "      <th>Ticket_5</th>\n",
              "      <th>Ticket_6</th>\n",
              "      <th>Ticket_7</th>\n",
              "      <th>Ticket_8</th>\n",
              "      <th>Ticket_9</th>\n",
              "      <th>Ticket_10</th>\n",
              "    </tr>\n",
              "  </thead>\n",
              "  <tbody>\n",
              "    <tr>\n",
              "      <th>608</th>\n",
              "      <td>0</td>\n",
              "      <td>0</td>\n",
              "      <td>0</td>\n",
              "      <td>0</td>\n",
              "      <td>0</td>\n",
              "      <td>0</td>\n",
              "      <td>0</td>\n",
              "      <td>0</td>\n",
              "      <td>0</td>\n",
              "      <td>1</td>\n",
              "    </tr>\n",
              "    <tr>\n",
              "      <th>728</th>\n",
              "      <td>0</td>\n",
              "      <td>0</td>\n",
              "      <td>0</td>\n",
              "      <td>0</td>\n",
              "      <td>0</td>\n",
              "      <td>0</td>\n",
              "      <td>0</td>\n",
              "      <td>0</td>\n",
              "      <td>1</td>\n",
              "      <td>0</td>\n",
              "    </tr>\n",
              "    <tr>\n",
              "      <th>102</th>\n",
              "      <td>0</td>\n",
              "      <td>0</td>\n",
              "      <td>0</td>\n",
              "      <td>0</td>\n",
              "      <td>0</td>\n",
              "      <td>0</td>\n",
              "      <td>0</td>\n",
              "      <td>0</td>\n",
              "      <td>1</td>\n",
              "      <td>1</td>\n",
              "    </tr>\n",
              "    <tr>\n",
              "      <th>54</th>\n",
              "      <td>0</td>\n",
              "      <td>0</td>\n",
              "      <td>0</td>\n",
              "      <td>0</td>\n",
              "      <td>0</td>\n",
              "      <td>0</td>\n",
              "      <td>0</td>\n",
              "      <td>1</td>\n",
              "      <td>0</td>\n",
              "      <td>0</td>\n",
              "    </tr>\n",
              "    <tr>\n",
              "      <th>211</th>\n",
              "      <td>0</td>\n",
              "      <td>0</td>\n",
              "      <td>0</td>\n",
              "      <td>0</td>\n",
              "      <td>0</td>\n",
              "      <td>0</td>\n",
              "      <td>0</td>\n",
              "      <td>1</td>\n",
              "      <td>0</td>\n",
              "      <td>1</td>\n",
              "    </tr>\n",
              "    <tr>\n",
              "      <th>...</th>\n",
              "      <td>...</td>\n",
              "      <td>...</td>\n",
              "      <td>...</td>\n",
              "      <td>...</td>\n",
              "      <td>...</td>\n",
              "      <td>...</td>\n",
              "      <td>...</td>\n",
              "      <td>...</td>\n",
              "      <td>...</td>\n",
              "      <td>...</td>\n",
              "    </tr>\n",
              "    <tr>\n",
              "      <th>616</th>\n",
              "      <td>0</td>\n",
              "      <td>1</td>\n",
              "      <td>0</td>\n",
              "      <td>1</td>\n",
              "      <td>1</td>\n",
              "      <td>0</td>\n",
              "      <td>0</td>\n",
              "      <td>1</td>\n",
              "      <td>0</td>\n",
              "      <td>0</td>\n",
              "    </tr>\n",
              "    <tr>\n",
              "      <th>591</th>\n",
              "      <td>0</td>\n",
              "      <td>0</td>\n",
              "      <td>0</td>\n",
              "      <td>0</td>\n",
              "      <td>1</td>\n",
              "      <td>0</td>\n",
              "      <td>0</td>\n",
              "      <td>0</td>\n",
              "      <td>1</td>\n",
              "      <td>0</td>\n",
              "    </tr>\n",
              "    <tr>\n",
              "      <th>499</th>\n",
              "      <td>1</td>\n",
              "      <td>0</td>\n",
              "      <td>0</td>\n",
              "      <td>1</td>\n",
              "      <td>1</td>\n",
              "      <td>0</td>\n",
              "      <td>1</td>\n",
              "      <td>1</td>\n",
              "      <td>1</td>\n",
              "      <td>0</td>\n",
              "    </tr>\n",
              "    <tr>\n",
              "      <th>328</th>\n",
              "      <td>1</td>\n",
              "      <td>0</td>\n",
              "      <td>0</td>\n",
              "      <td>0</td>\n",
              "      <td>1</td>\n",
              "      <td>0</td>\n",
              "      <td>0</td>\n",
              "      <td>0</td>\n",
              "      <td>1</td>\n",
              "      <td>1</td>\n",
              "    </tr>\n",
              "    <tr>\n",
              "      <th>508</th>\n",
              "      <td>1</td>\n",
              "      <td>0</td>\n",
              "      <td>0</td>\n",
              "      <td>1</td>\n",
              "      <td>1</td>\n",
              "      <td>0</td>\n",
              "      <td>1</td>\n",
              "      <td>1</td>\n",
              "      <td>1</td>\n",
              "      <td>1</td>\n",
              "    </tr>\n",
              "  </tbody>\n",
              "</table>\n",
              "<p>801 rows × 10 columns</p>\n",
              "</div>"
            ],
            "text/plain": [
              "     Ticket_1  Ticket_2  Ticket_3  ...  Ticket_8  Ticket_9  Ticket_10\n",
              "608         0         0         0  ...         0         0          1\n",
              "728         0         0         0  ...         0         1          0\n",
              "102         0         0         0  ...         0         1          1\n",
              "54          0         0         0  ...         1         0          0\n",
              "211         0         0         0  ...         1         0          1\n",
              "..        ...       ...       ...  ...       ...       ...        ...\n",
              "616         0         1         0  ...         1         0          0\n",
              "591         0         0         0  ...         0         1          0\n",
              "499         1         0         0  ...         1         1          0\n",
              "328         1         0         0  ...         0         1          1\n",
              "508         1         0         0  ...         1         1          1\n",
              "\n",
              "[801 rows x 10 columns]"
            ]
          },
          "metadata": {
            "tags": []
          },
          "execution_count": 94
        }
      ]
    },
    {
      "cell_type": "code",
      "metadata": {
        "id": "ukhdraSAbV_P"
      },
      "source": [
        "df.isna().sum()\n"
      ],
      "execution_count": null,
      "outputs": []
    },
    {
      "cell_type": "code",
      "metadata": {
        "colab": {
          "base_uri": "https://localhost:8080/"
        },
        "id": "L7aJKc3CxYzZ",
        "outputId": "64749837-29ab-47a5-f27b-cd4403510324"
      },
      "source": [
        "df['Date Posted'].astype('datetime64').dt.strftime('%a')"
      ],
      "execution_count": null,
      "outputs": [
        {
          "output_type": "execute_result",
          "data": {
            "text/plain": [
              "0         Sun\n",
              "1         Sun\n",
              "2         Fri\n",
              "3         Thu\n",
              "4         Thu\n",
              "         ... \n",
              "178917    Thu\n",
              "178918    Wed\n",
              "178919    Wed\n",
              "178920    Wed\n",
              "178921    Tue\n",
              "Name: Date Posted, Length: 178922, dtype: object"
            ]
          },
          "metadata": {
            "tags": []
          },
          "execution_count": 111
        }
      ]
    },
    {
      "cell_type": "code",
      "metadata": {
        "colab": {
          "base_uri": "https://localhost:8080/"
        },
        "id": "tWPiWlZNfpsK",
        "outputId": "c9d508bf-fd8f-4a0e-e378-efedc8b3ac14"
      },
      "source": [
        "list1=[i for i in range(1,10)]\n",
        "sum(list1)\n"
      ],
      "execution_count": null,
      "outputs": [
        {
          "output_type": "execute_result",
          "data": {
            "text/plain": [
              "45"
            ]
          },
          "metadata": {},
          "execution_count": 15
        }
      ]
    },
    {
      "cell_type": "code",
      "metadata": {
        "id": "ZCISdLTCmOOp"
      },
      "source": [
        "lst1=list(range(10))"
      ],
      "execution_count": null,
      "outputs": []
    },
    {
      "cell_type": "code",
      "metadata": {
        "id": "eYM4AaJKxBse"
      },
      "source": [
        "itr=lst1.__iter__()"
      ],
      "execution_count": null,
      "outputs": []
    },
    {
      "cell_type": "code",
      "metadata": {
        "id": "GwHDDAjdxPP6"
      },
      "source": [
        "while True:\n",
        " try:\n",
        "   print( next(itr))\n",
        " except:\n",
        "   print('exception caught'  )\n",
        "   break\n"
      ],
      "execution_count": null,
      "outputs": []
    },
    {
      "cell_type": "code",
      "metadata": {
        "id": "SSIgodgWmUNj"
      },
      "source": [
        "def func():\n",
        "  x=0\n",
        "  while True:\n",
        "   yield x\n",
        "   x+=1"
      ],
      "execution_count": null,
      "outputs": []
    },
    {
      "cell_type": "code",
      "metadata": {
        "id": "RcLYWd_PwDdW"
      },
      "source": [
        "func=func()"
      ],
      "execution_count": null,
      "outputs": []
    },
    {
      "cell_type": "code",
      "metadata": {
        "id": "57KRHiBD2V5S"
      },
      "source": [
        "\n",
        "def fibnoacci(num):\n",
        "    x,y=0,1\n",
        "    for _ in range(num-2):\n",
        "     x,y=y,x+y\n",
        "     yield x\n",
        "\n",
        "     "
      ],
      "execution_count": null,
      "outputs": []
    },
    {
      "cell_type": "code",
      "metadata": {
        "id": "YYJ13Yjq3Dwm"
      },
      "source": [
        ""
      ],
      "execution_count": null,
      "outputs": []
    },
    {
      "cell_type": "code",
      "metadata": {
        "colab": {
          "base_uri": "https://localhost:8080/"
        },
        "id": "RKMhcIBf7vEy",
        "outputId": "d8ff621e-c5ad-42bf-de26-63ad1ac4a210"
      },
      "source": [
        ""
      ],
      "execution_count": null,
      "outputs": [
        {
          "output_type": "execute_result",
          "data": {
            "text/plain": [
              "8"
            ]
          },
          "metadata": {},
          "execution_count": 148
        }
      ]
    },
    {
      "cell_type": "code",
      "metadata": {
        "colab": {
          "base_uri": "https://localhost:8080/"
        },
        "id": "u5RT52S_Ajtq",
        "outputId": "7ebdb5b5-2090-438d-b6eb-fc1e4c74d480"
      },
      "source": [
        "func()"
      ],
      "execution_count": null,
      "outputs": [
        {
          "output_type": "execute_result",
          "data": {
            "text/plain": [
              "0"
            ]
          },
          "metadata": {},
          "execution_count": 130
        }
      ]
    },
    {
      "cell_type": "code",
      "metadata": {
        "colab": {
          "base_uri": "https://localhost:8080/"
        },
        "id": "T7d-dw9H6sjE",
        "outputId": "fcc19d02-1e5f-4ae1-84c9-7f19063b0ac9"
      },
      "source": [
        "while True:\n",
        "  try:\n",
        "    print(next(fib))\n",
        "  except:\n",
        "    print('stop')  \n",
        "    break"
      ],
      "execution_count": null,
      "outputs": [
        {
          "output_type": "stream",
          "name": "stdout",
          "text": [
            "stop\n"
          ]
        }
      ]
    },
    {
      "cell_type": "code",
      "metadata": {
        "id": "PthGOoyeFpKt"
      },
      "source": [
        "file=open('/content/test (2).csv','r')"
      ],
      "execution_count": null,
      "outputs": []
    },
    {
      "cell_type": "code",
      "metadata": {
        "id": "dmZJ62GgF5x-"
      },
      "source": [
        "with  open('/content/test (2).csv','r') as file1:\n",
        "\n",
        " list2=file1.readlines(100)"
      ],
      "execution_count": null,
      "outputs": []
    },
    {
      "cell_type": "code",
      "metadata": {
        "colab": {
          "base_uri": "https://localhost:8080/",
          "height": 142
        },
        "id": "2CO7ggY1KaRh",
        "outputId": "e94db9e1-639f-4999-a9bf-c5a51fbd7b2c"
      },
      "source": [
        "import pandas as pd\n",
        "pd.DataFrame((map(lambda x: x.split(','),list2)))"
      ],
      "execution_count": null,
      "outputs": [
        {
          "output_type": "execute_result",
          "data": {
            "text/html": [
              "<div>\n",
              "<style scoped>\n",
              "    .dataframe tbody tr th:only-of-type {\n",
              "        vertical-align: middle;\n",
              "    }\n",
              "\n",
              "    .dataframe tbody tr th {\n",
              "        vertical-align: top;\n",
              "    }\n",
              "\n",
              "    .dataframe thead th {\n",
              "        text-align: right;\n",
              "    }\n",
              "</style>\n",
              "<table border=\"1\" class=\"dataframe\">\n",
              "  <thead>\n",
              "    <tr style=\"text-align: right;\">\n",
              "      <th></th>\n",
              "      <th>0</th>\n",
              "      <th>1</th>\n",
              "      <th>2</th>\n",
              "      <th>3</th>\n",
              "      <th>4</th>\n",
              "    </tr>\n",
              "  </thead>\n",
              "  <tbody>\n",
              "    <tr>\n",
              "      <th>0</th>\n",
              "      <td>id</td>\n",
              "      <td>keyword</td>\n",
              "      <td>location</td>\n",
              "      <td>text\\n</td>\n",
              "      <td>None</td>\n",
              "    </tr>\n",
              "    <tr>\n",
              "      <th>1</th>\n",
              "      <td>0</td>\n",
              "      <td></td>\n",
              "      <td></td>\n",
              "      <td>Just happened a terrible car crash\\n</td>\n",
              "      <td>None</td>\n",
              "    </tr>\n",
              "    <tr>\n",
              "      <th>2</th>\n",
              "      <td>2</td>\n",
              "      <td></td>\n",
              "      <td></td>\n",
              "      <td>\"Heard about #earthquake is different cities</td>\n",
              "      <td>stay safe everyone.\"\\n</td>\n",
              "    </tr>\n",
              "  </tbody>\n",
              "</table>\n",
              "</div>"
            ],
            "text/plain": [
              "    0  ...                        4\n",
              "0  id  ...                     None\n",
              "1   0  ...                     None\n",
              "2   2  ...   stay safe everyone.\"\\n\n",
              "\n",
              "[3 rows x 5 columns]"
            ]
          },
          "metadata": {},
          "execution_count": 16
        }
      ]
    },
    {
      "cell_type": "code",
      "metadata": {
        "id": "priMk8i-Njup"
      },
      "source": [
        "list1=list(range(10))\n",
        "tuple1=tuple(range(10))"
      ],
      "execution_count": null,
      "outputs": []
    },
    {
      "cell_type": "code",
      "metadata": {
        "id": "f-IUet7AMT_f"
      },
      "source": [
        "def func(obj):\n",
        " obj[3]**2\n",
        " print(obj) "
      ],
      "execution_count": null,
      "outputs": []
    },
    {
      "cell_type": "code",
      "metadata": {
        "id": "5welmTsNMaMU"
      },
      "source": [
        "func(list1)\n",
        "list1  "
      ],
      "execution_count": null,
      "outputs": []
    },
    {
      "cell_type": "code",
      "metadata": {
        "colab": {
          "base_uri": "https://localhost:8080/"
        },
        "id": "VpiOi8K-MeXg",
        "outputId": "3791bea3-a35a-4611-ffca-5aba13ee2f5f"
      },
      "source": [
        "list1[3]**2"
      ],
      "execution_count": null,
      "outputs": [
        {
          "output_type": "execute_result",
          "data": {
            "text/plain": [
              "9"
            ]
          },
          "metadata": {},
          "execution_count": 46
        }
      ]
    },
    {
      "cell_type": "code",
      "metadata": {
        "id": "ORE9KYaHPzt-"
      },
      "source": [
        "@smart_div\n",
        "def div(a,b):\n",
        "  return a/b"
      ],
      "execution_count": null,
      "outputs": []
    },
    {
      "cell_type": "code",
      "metadata": {
        "colab": {
          "base_uri": "https://localhost:8080/"
        },
        "id": "XQP9smtzV4Gl",
        "outputId": "2e826f1e-0f5d-448f-ea7b-a31f1240f603"
      },
      "source": [
        "div(5,2)"
      ],
      "execution_count": null,
      "outputs": [
        {
          "output_type": "execute_result",
          "data": {
            "text/plain": [
              "2.5"
            ]
          },
          "metadata": {},
          "execution_count": 52
        }
      ]
    },
    {
      "cell_type": "code",
      "metadata": {
        "colab": {
          "base_uri": "https://localhost:8080/"
        },
        "id": "2qqaSNjNV8cV",
        "outputId": "40acd999-556f-4cb9-ed58-76df4761a9f0"
      },
      "source": [
        "div(5,2)"
      ],
      "execution_count": null,
      "outputs": [
        {
          "output_type": "execute_result",
          "data": {
            "text/plain": [
              "2.5"
            ]
          },
          "metadata": {},
          "execution_count": 53
        }
      ]
    },
    {
      "cell_type": "code",
      "metadata": {
        "id": "PNe2HYMKWKC1"
      },
      "source": [
        "def smart_div(func):\n",
        "  def inner(*args,**kargs):\n",
        "    a, b= args\n",
        "    try:\n",
        "      func(a,b)\n",
        "    except:\n",
        "      print('oops! can divide by zero')\n",
        "  return inner         "
      ],
      "execution_count": null,
      "outputs": []
    },
    {
      "cell_type": "code",
      "metadata": {
        "id": "tn0T-EdcW7HS"
      },
      "source": [
        "# block comment\n",
        "class MyDecorator:   \n",
        "  \n",
        "  def __init__(self,f):\n",
        "    self.__f=f\n",
        "    \n",
        "  def __call__(self,*args,**kargs):\n",
        "    print('I will decorate now',args[0])\n",
        "    return self.f(*args)\n",
        "\n"
      ],
      "execution_count": null,
      "outputs": []
    },
    {
      "cell_type": "code",
      "metadata": {
        "id": "ctT-RvoJ6o3r"
      },
      "source": [
        "obj1=MyDecorator(2)"
      ],
      "execution_count": null,
      "outputs": []
    },
    {
      "cell_type": "code",
      "metadata": {
        "colab": {
          "base_uri": "https://localhost:8080/"
        },
        "id": "Sb8Gdy6v3d5j",
        "outputId": "202eef72-8883-47ed-d2a9-18a0b8dc5055"
      },
      "source": [
        "[i for i in enumerate(range(2))][0]"
      ],
      "execution_count": null,
      "outputs": [
        {
          "output_type": "execute_result",
          "data": {
            "text/plain": [
              "(0, 0)"
            ]
          },
          "metadata": {},
          "execution_count": 182
        }
      ]
    },
    {
      "cell_type": "code",
      "metadata": {
        "colab": {
          "base_uri": "https://localhost:8080/"
        },
        "id": "wfDXRagu3mQ9",
        "outputId": "178242e9-cafd-44e2-8c65-b61d7c8b4eb6"
      },
      "source": [
        "MyDecorator.a"
      ],
      "execution_count": null,
      "outputs": [
        {
          "output_type": "execute_result",
          "data": {
            "text/plain": [
              "9"
            ]
          },
          "metadata": {},
          "execution_count": 33
        }
      ]
    },
    {
      "cell_type": "code",
      "metadata": {
        "colab": {
          "base_uri": "https://localhost:8080/"
        },
        "id": "V7GyCj3D3f-O",
        "outputId": "cc39cca7-925d-4904-ba94-f6e1a4e86031"
      },
      "source": [
        "obj2=MyDecorator(3)\n",
        "obj2.a"
      ],
      "execution_count": null,
      "outputs": [
        {
          "output_type": "stream",
          "name": "stdout",
          "text": [
            "9\n"
          ]
        },
        {
          "output_type": "execute_result",
          "data": {
            "text/plain": [
              "9"
            ]
          },
          "metadata": {},
          "execution_count": 34
        }
      ]
    },
    {
      "cell_type": "code",
      "metadata": {
        "colab": {
          "base_uri": "https://localhost:8080/"
        },
        "id": "w0y_XeZP3ovA",
        "outputId": "82138e32-e174-4261-be70-ad6a76bda730"
      },
      "source": [
        "obj2.a"
      ],
      "execution_count": null,
      "outputs": [
        {
          "output_type": "execute_result",
          "data": {
            "text/plain": [
              "0"
            ]
          },
          "metadata": {},
          "execution_count": 7
        }
      ]
    },
    {
      "cell_type": "code",
      "metadata": {
        "id": "bvMjPRydnUu0"
      },
      "source": [
        "import decorators\n",
        "import decorator"
      ],
      "execution_count": null,
      "outputs": []
    },
    {
      "cell_type": "code",
      "metadata": {
        "id": "Y08awt0g73YR"
      },
      "source": [
        "obj=MyDecorator(2)"
      ],
      "execution_count": null,
      "outputs": []
    },
    {
      "cell_type": "code",
      "metadata": {
        "colab": {
          "base_uri": "https://localhost:8080/"
        },
        "id": "7eqRdL2F9U9I",
        "outputId": "53705a3e-cabb-49d0-b370-7c854ffa5136"
      },
      "source": [
        "obj.a"
      ],
      "execution_count": null,
      "outputs": [
        {
          "output_type": "execute_result",
          "data": {
            "text/plain": [
              "0"
            ]
          },
          "metadata": {},
          "execution_count": 135
        }
      ]
    },
    {
      "cell_type": "code",
      "metadata": {
        "id": "jep8BmTW7xgF"
      },
      "source": [
        "@timer\n",
        "def f(var):\n",
        "  print('without decoration')\n"
      ],
      "execution_count": null,
      "outputs": []
    },
    {
      "cell_type": "code",
      "metadata": {
        "colab": {
          "base_uri": "https://localhost:8080/"
        },
        "id": "BZlSa7MHrH_W",
        "outputId": "1f785684-d683-4393-9d87-62504253d463"
      },
      "source": [
        "f('ho')"
      ],
      "execution_count": null,
      "outputs": [
        {
          "output_type": "stream",
          "name": "stdout",
          "text": [
            "I will decorate now ho\n",
            "without decoration\n"
          ]
        }
      ]
    },
    {
      "cell_type": "code",
      "metadata": {
        "id": "7gZBUtQorPSV"
      },
      "source": [
        "import itertools"
      ],
      "execution_count": null,
      "outputs": []
    },
    {
      "cell_type": "code",
      "metadata": {
        "id": "pMqYGI5bMyAy"
      },
      "source": [
        "list1=list(range(10))"
      ],
      "execution_count": null,
      "outputs": []
    },
    {
      "cell_type": "code",
      "metadata": {
        "id": "2ZeelNLAM3tC"
      },
      "source": [
        "iter1=itertools.count(0,1)"
      ],
      "execution_count": null,
      "outputs": []
    },
    {
      "cell_type": "code",
      "metadata": {
        "colab": {
          "base_uri": "https://localhost:8080/"
        },
        "id": "HrY2pllKODkw",
        "outputId": "ba22d7a2-6ac1-4fd7-c770-e37cb9c779c8"
      },
      "source": [
        "for _ in range(10):\n",
        "  print((iter1).__next__())"
      ],
      "execution_count": null,
      "outputs": [
        {
          "output_type": "stream",
          "name": "stdout",
          "text": [
            "30\n",
            "31\n",
            "32\n",
            "33\n",
            "34\n",
            "35\n",
            "36\n",
            "37\n",
            "38\n",
            "39\n"
          ]
        }
      ]
    },
    {
      "cell_type": "code",
      "metadata": {
        "id": "iRwXeAWLWYh-"
      },
      "source": [
        "string='pawan'"
      ],
      "execution_count": null,
      "outputs": []
    },
    {
      "cell_type": "code",
      "metadata": {
        "colab": {
          "base_uri": "https://localhost:8080/",
          "height": 132
        },
        "id": "NhA74ZkuWYks",
        "outputId": "809cdcd7-0381-407b-deb0-a95be250a22e"
      },
      "source": [
        "if string.count('a'):"
      ],
      "execution_count": null,
      "outputs": [
        {
          "output_type": "error",
          "ename": "SyntaxError",
          "evalue": "ignored",
          "traceback": [
            "\u001b[0;36m  File \u001b[0;32m\"<ipython-input-14-6ef4755b29dc>\"\u001b[0;36m, line \u001b[0;32m1\u001b[0m\n\u001b[0;31m    if string.count('a')\u001b[0m\n\u001b[0m                        ^\u001b[0m\n\u001b[0;31mSyntaxError\u001b[0m\u001b[0;31m:\u001b[0m invalid syntax\n"
          ]
        }
      ]
    }
  ]
}