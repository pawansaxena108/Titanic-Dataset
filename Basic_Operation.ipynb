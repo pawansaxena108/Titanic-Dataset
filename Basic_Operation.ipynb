{
  "nbformat": 4,
  "nbformat_minor": 0,
  "metadata": {
    "colab": {
      "name": "Basic_Operation.ipynb",
      "version": "0.3.2",
      "provenance": [],
      "collapsed_sections": [],
      "include_colab_link": true
    },
    "kernelspec": {
      "name": "python3",
      "display_name": "Python 3"
    },
    "accelerator": "GPU"
  },
  "cells": [
    {
      "cell_type": "markdown",
      "metadata": {
        "id": "view-in-github",
        "colab_type": "text"
      },
      "source": [
        "<a href=\"https://colab.research.google.com/github/pawansaxena108/Titanic-Dataset/blob/pawansaxena108-patch-1/Basic_Operation.ipynb\" target=\"_parent\"><img src=\"https://colab.research.google.com/assets/colab-badge.svg\" alt=\"Open In Colab\"/></a>"
      ]
    },
    {
      "cell_type": "code",
      "metadata": {
        "id": "UnWrV48Od1rM",
        "colab_type": "code",
        "colab": {}
      },
      "source": [
        "\n",
        "\n",
        "my_dict = dict([(2,'ball')])\n",
        "\n",
        "dict((i,class_weight_dict[j])  for i,j in dict_list_reversed.items())"
      ],
      "execution_count": 0,
      "outputs": []
    },
    {
      "cell_type": "code",
      "metadata": {
        "id": "k_EBCXUSf1oH",
        "colab_type": "code",
        "colab": {}
      },
      "source": [
        "a=[(1,2),(2,3),(3,4)]"
      ],
      "execution_count": 0,
      "outputs": []
    },
    {
      "cell_type": "code",
      "metadata": {
        "id": "eYwfyupFmb_2",
        "colab_type": "code",
        "outputId": "bbfeac5d-c18d-4f03-cde8-663fc6e6c556",
        "colab": {
          "base_uri": "https://localhost:8080/",
          "height": 34
        }
      },
      "source": [
        "dict(((i,j) for i,j in a))"
      ],
      "execution_count": 0,
      "outputs": [
        {
          "output_type": "execute_result",
          "data": {
            "text/plain": [
              "{1: 2, 3: 4}"
            ]
          },
          "metadata": {
            "tags": []
          },
          "execution_count": 44
        }
      ]
    },
    {
      "cell_type": "code",
      "metadata": {
        "id": "WNJmLhZomlgC",
        "colab_type": "code",
        "colab": {}
      },
      "source": [
        "l1=[1,2,3]\n",
        "l2=[4,5,6]\n",
        "l3=[7,8,9]\n"
      ],
      "execution_count": 0,
      "outputs": []
    },
    {
      "cell_type": "code",
      "metadata": {
        "id": "CsxbEe3Cn2mD",
        "colab_type": "code",
        "colab": {}
      },
      "source": [
        "gen=(( i for i in zip(l1,l2,l3)))"
      ],
      "execution_count": 0,
      "outputs": []
    },
    {
      "cell_type": "code",
      "metadata": {
        "id": "Dru5-fJrqP7X",
        "colab_type": "code",
        "outputId": "4ca3a86d-762d-40c3-f61c-70e59961d0ae",
        "colab": {
          "base_uri": "https://localhost:8080/",
          "height": 34
        }
      },
      "source": [
        "next(gen),next(gen)"
      ],
      "execution_count": 0,
      "outputs": [
        {
          "output_type": "execute_result",
          "data": {
            "text/plain": [
              "((1, 4, 7), (2, 5, 8))"
            ]
          },
          "metadata": {
            "tags": []
          },
          "execution_count": 48
        }
      ]
    },
    {
      "cell_type": "code",
      "metadata": {
        "id": "TcjugMqypLCW",
        "colab_type": "code",
        "outputId": "53189610-408b-4da6-acdd-0e91a1c28ff2",
        "colab": {
          "base_uri": "https://localhost:8080/",
          "height": 34
        }
      },
      "source": [
        "type((1,'a'))"
      ],
      "execution_count": 0,
      "outputs": [
        {
          "output_type": "execute_result",
          "data": {
            "text/plain": [
              "tuple"
            ]
          },
          "metadata": {
            "tags": []
          },
          "execution_count": 31
        }
      ]
    },
    {
      "cell_type": "code",
      "metadata": {
        "id": "Z-COtPYFpRNn",
        "colab_type": "code",
        "colab": {}
      },
      "source": [
        "a=[[1,2],[3,4]]"
      ],
      "execution_count": 0,
      "outputs": []
    },
    {
      "cell_type": "code",
      "metadata": {
        "id": "pTXDwH4DpceG",
        "colab_type": "code",
        "outputId": "f289a0ac-4996-448d-fb78-77468d407564",
        "colab": {
          "base_uri": "https://localhost:8080/",
          "height": 34
        }
      },
      "source": [
        "((i,j) for i,j in a)"
      ],
      "execution_count": 0,
      "outputs": [
        {
          "output_type": "execute_result",
          "data": {
            "text/plain": [
              "<generator object <genexpr> at 0x7fb18b1ce1a8>"
            ]
          },
          "metadata": {
            "tags": []
          },
          "execution_count": 55
        }
      ]
    },
    {
      "cell_type": "code",
      "metadata": {
        "id": "wsa-5Ma4pgmk",
        "colab_type": "code",
        "colab": {}
      },
      "source": [
        "dict((1,2))"
      ],
      "execution_count": 0,
      "outputs": []
    },
    {
      "cell_type": "code",
      "metadata": {
        "id": "Za884FA2Fucu",
        "colab_type": "code",
        "colab": {}
      },
      "source": [
        "filename=['pawan/saxena','swati/rajput']"
      ],
      "execution_count": 0,
      "outputs": []
    },
    {
      "cell_type": "code",
      "metadata": {
        "id": "zn1ovUg6F5gK",
        "colab_type": "code",
        "colab": {}
      },
      "source": [
        "def func(x):\n",
        "  return x.split('/')"
      ],
      "execution_count": 0,
      "outputs": []
    },
    {
      "cell_type": "code",
      "metadata": {
        "id": "ZAAIZK8fr7L8",
        "colab_type": "code",
        "colab": {}
      },
      "source": [
        "a=np.array(list(((map(lambda x: x.split('/'),filename)))))"
      ],
      "execution_count": 0,
      "outputs": []
    },
    {
      "cell_type": "code",
      "metadata": {
        "id": "3_otPBl3rJek",
        "colab_type": "code",
        "outputId": "4ccc0df3-ae85-46ac-a24b-b4b86220db5b",
        "colab": {
          "base_uri": "https://localhost:8080/",
          "height": 34
        }
      },
      "source": [
        "a[:,1]"
      ],
      "execution_count": 0,
      "outputs": [
        {
          "output_type": "execute_result",
          "data": {
            "text/plain": [
              "array(['saxena', 'rajput'], dtype='<U6')"
            ]
          },
          "metadata": {
            "tags": []
          },
          "execution_count": 22
        }
      ]
    },
    {
      "cell_type": "code",
      "metadata": {
        "id": "eznYZw3zGv1F",
        "colab_type": "code",
        "outputId": "7858aa53-daa7-4a92-8e3d-9f0ac5b121e0",
        "colab": {
          "base_uri": "https://localhost:8080/",
          "height": 34
        }
      },
      "source": [
        "import numpy as np\n",
        "np.shape(a)"
      ],
      "execution_count": 0,
      "outputs": [
        {
          "output_type": "execute_result",
          "data": {
            "text/plain": [
              "(2, 2)"
            ]
          },
          "metadata": {
            "tags": []
          },
          "execution_count": 10
        }
      ]
    },
    {
      "cell_type": "code",
      "metadata": {
        "id": "jNwX5jK8G11n",
        "colab_type": "code",
        "colab": {}
      },
      "source": [
        "!rm -rf Titanic-Dataset/"
      ],
      "execution_count": 0,
      "outputs": []
    },
    {
      "cell_type": "code",
      "metadata": {
        "id": "XQIKVIkrG4pU",
        "colab_type": "code",
        "outputId": "3fef1977-724f-437f-fa87-407f666c24f1",
        "colab": {
          "base_uri": "https://localhost:8080/",
          "height": 123
        }
      },
      "source": [
        "!git clone https://github.com/pawansaxena108/Titanic-Dataset.git"
      ],
      "execution_count": 0,
      "outputs": [
        {
          "output_type": "stream",
          "text": [
            "Cloning into 'Titanic-Dataset'...\n",
            "remote: Enumerating objects: 26, done.\u001b[K\n",
            "remote: Counting objects: 100% (26/26), done.\u001b[K\n",
            "remote: Compressing objects: 100% (24/24), done.\u001b[K\n",
            "remote: Total 26 (delta 5), reused 0 (delta 0), pack-reused 0\u001b[K\n",
            "Unpacking objects: 100% (26/26), done.\n"
          ],
          "name": "stdout"
        }
      ]
    },
    {
      "cell_type": "code",
      "metadata": {
        "id": "lMta6tSLCMwT",
        "colab_type": "code",
        "outputId": "3195fcff-4d2b-4561-96a1-5a9315d3b5f0",
        "colab": {
          "base_uri": "https://localhost:8080/",
          "height": 34
        }
      },
      "source": [
        "!git branch testing"
      ],
      "execution_count": 0,
      "outputs": [
        {
          "output_type": "stream",
          "text": [
            "fatal: not a git repository (or any of the parent directories): .git\n"
          ],
          "name": "stdout"
        }
      ]
    },
    {
      "cell_type": "code",
      "metadata": {
        "id": "YSI-9oXZD-Bc",
        "colab_type": "code",
        "colab": {}
      },
      "source": [
        "pd.read_csv('/content/sample_data/mnist_train_small.csv')"
      ],
      "execution_count": 0,
      "outputs": []
    },
    {
      "cell_type": "code",
      "metadata": {
        "id": "hI-Cf-UHEEj6",
        "colab_type": "code",
        "outputId": "f7b27486-7808-4b63-ddd0-788b88285b76",
        "colab": {
          "base_uri": "https://localhost:8080/",
          "height": 34
        }
      },
      "source": [
        "!git commit -a -m \"changes\""
      ],
      "execution_count": 0,
      "outputs": [
        {
          "output_type": "stream",
          "text": [
            "fatal: not a git repository (or any of the parent directories): .git\n"
          ],
          "name": "stdout"
        }
      ]
    },
    {
      "cell_type": "code",
      "metadata": {
        "id": "-RifICPSScRN",
        "colab_type": "code",
        "outputId": "daa1820d-fd56-4f94-bd48-d846c2751843",
        "colab": {
          "base_uri": "https://localhost:8080/",
          "height": 34
        }
      },
      "source": [
        "!git branch"
      ],
      "execution_count": 0,
      "outputs": [
        {
          "output_type": "stream",
          "text": [
            "fatal: not a git repository (or any of the parent directories): .git\n"
          ],
          "name": "stdout"
        }
      ]
    },
    {
      "cell_type": "code",
      "metadata": {
        "id": "FvJ1PrJOSn0A",
        "colab_type": "code",
        "colab": {}
      },
      "source": [
        "!cd Titanic-Dataset/"
      ],
      "execution_count": 0,
      "outputs": []
    },
    {
      "cell_type": "code",
      "metadata": {
        "id": "rEu0sw7xSrIa",
        "colab_type": "code",
        "outputId": "29d99d0f-f194-4dd4-ee82-972ecd632af9",
        "colab": {
          "base_uri": "https://localhost:8080/",
          "height": 34
        }
      },
      "source": [
        "!pwd"
      ],
      "execution_count": 0,
      "outputs": [
        {
          "output_type": "stream",
          "text": [
            "/content\n"
          ],
          "name": "stdout"
        }
      ]
    },
    {
      "cell_type": "code",
      "metadata": {
        "id": "66Yqwx1KTG3m",
        "colab_type": "code",
        "colab": {}
      },
      "source": [
        "import os "
      ],
      "execution_count": 0,
      "outputs": []
    },
    {
      "cell_type": "code",
      "metadata": {
        "id": "NV4oDf1CStBU",
        "colab_type": "code",
        "colab": {}
      },
      "source": [
        ""
      ],
      "execution_count": 0,
      "outputs": []
    },
    {
      "cell_type": "code",
      "metadata": {
        "id": "tdBSHp2RdfsK",
        "colab_type": "code",
        "outputId": "f490ebc9-eb70-4f32-c9c0-22c51c90d26b",
        "colab": {
          "base_uri": "https://localhost:8080/",
          "height": 34
        }
      },
      "source": [
        "import zipfile\n",
        "with zipfile.ZipFile('/content/Titanic-Dataset/titanicdataset-traincsv.zip','r') as zipf:\n",
        "   zipf.extractall()\n",
        "   print('done')"
      ],
      "execution_count": 0,
      "outputs": [
        {
          "output_type": "stream",
          "text": [
            "done\n"
          ],
          "name": "stdout"
        }
      ]
    },
    {
      "cell_type": "code",
      "metadata": {
        "id": "CvFNqnYRd14Q",
        "colab_type": "code",
        "colab": {}
      },
      "source": [
        "df1=pd.read_csv('train.csv')\n"
      ],
      "execution_count": 0,
      "outputs": []
    },
    {
      "cell_type": "code",
      "metadata": {
        "id": "uxMCDeG_jx2O",
        "colab_type": "code",
        "colab": {}
      },
      "source": [
        "df1.set_index('PassengerId',inplace=True)"
      ],
      "execution_count": 0,
      "outputs": []
    },
    {
      "cell_type": "code",
      "metadata": {
        "id": "KS0b_bI-j2R5",
        "colab_type": "code",
        "outputId": "0d32029c-289d-4dde-c6e5-ae0aadf015e3",
        "colab": {
          "base_uri": "https://localhost:8080/",
          "height": 34
        }
      },
      "source": [
        "df1.index.contains(2)"
      ],
      "execution_count": 0,
      "outputs": [
        {
          "output_type": "execute_result",
          "data": {
            "text/plain": [
              "True"
            ]
          },
          "metadata": {
            "tags": []
          },
          "execution_count": 70
        }
      ]
    },
    {
      "cell_type": "code",
      "metadata": {
        "id": "QkQOpyfnkn0u",
        "colab_type": "code",
        "colab": {}
      },
      "source": [
        "s1=df1.Age"
      ],
      "execution_count": 0,
      "outputs": []
    },
    {
      "cell_type": "code",
      "metadata": {
        "id": "VXwpp9n0nZAe",
        "colab_type": "code",
        "outputId": "dd5d5be8-477c-44ab-d555-758636160a15",
        "colab": {
          "base_uri": "https://localhost:8080/",
          "height": 34
        }
      },
      "source": [
        "s1.dtype\n"
      ],
      "execution_count": 0,
      "outputs": [
        {
          "output_type": "execute_result",
          "data": {
            "text/plain": [
              "dtype('float64')"
            ]
          },
          "metadata": {
            "tags": []
          },
          "execution_count": 74
        }
      ]
    },
    {
      "cell_type": "code",
      "metadata": {
        "id": "qxlxMtF8nbd1",
        "colab_type": "code",
        "colab": {}
      },
      "source": [
        "li=[1,2,3,4]\n",
        "import pandas as pd"
      ],
      "execution_count": 0,
      "outputs": []
    },
    {
      "cell_type": "code",
      "metadata": {
        "id": "eozn-Yi0vMoX",
        "colab_type": "code",
        "colab": {}
      },
      "source": [
        "import numpy as np\n",
        "mylist = list('abcedfghijklmnopqrstuvwxyz')\n",
        "myarr = np.arange(26)\n",
        "mydict = dict(zip(mylist, myarr))"
      ],
      "execution_count": 0,
      "outputs": []
    },
    {
      "cell_type": "code",
      "metadata": {
        "id": "Akujit1nv9NK",
        "colab_type": "code",
        "colab": {}
      },
      "source": [
        "sr3=pd.Series(mydict)\n"
      ],
      "execution_count": 0,
      "outputs": []
    },
    {
      "cell_type": "code",
      "metadata": {
        "id": "88MktCwBxp_B",
        "colab_type": "code",
        "colab": {}
      },
      "source": [
        "df1[df1.Pclass==3]"
      ],
      "execution_count": 0,
      "outputs": []
    },
    {
      "cell_type": "code",
      "metadata": {
        "id": "uo3XD_nxxxq0",
        "colab_type": "code",
        "colab": {}
      },
      "source": [
        "from sklearn.model_selection import StratifiedShuffleSplit"
      ],
      "execution_count": 0,
      "outputs": []
    },
    {
      "cell_type": "code",
      "metadata": {
        "id": "7evbajk9YIsa",
        "colab_type": "code",
        "colab": {}
      },
      "source": [
        "splits=StratifiedShuffleSplit(n_splits=2,test_size=.2)\n",
        "splits.split(df1)"
      ],
      "execution_count": 0,
      "outputs": []
    },
    {
      "cell_type": "code",
      "metadata": {
        "id": "zz6A7vSkYZq_",
        "colab_type": "code",
        "colab": {}
      },
      "source": [
        "ser1 = pd.Series([10, 9, 6, 5, 3, 1, 12, 8, 13])\n",
        "ser2 = pd.Series([1, 3, 10, 13])\n"
      ],
      "execution_count": 0,
      "outputs": []
    },
    {
      "cell_type": "code",
      "metadata": {
        "id": "jVywz5UXZxc7",
        "colab_type": "code",
        "outputId": "5fd0af8b-f783-4a54-8b96-89e9d8237a68",
        "colab": {
          "base_uri": "https://localhost:8080/",
          "height": 105
        }
      },
      "source": [
        "[ser2.(ser1)]"
      ],
      "execution_count": 0,
      "outputs": [
        {
          "output_type": "execute_result",
          "data": {
            "text/plain": [
              "[0    True\n",
              " 1    True\n",
              " 2    True\n",
              " 3    True\n",
              " dtype: bool]"
            ]
          },
          "metadata": {
            "tags": []
          },
          "execution_count": 17
        }
      ]
    },
    {
      "cell_type": "code",
      "metadata": {
        "id": "MIAlPWuka5wz",
        "colab_type": "code",
        "outputId": "93433f29-418c-4db5-efa9-9399c31f2791",
        "colab": {
          "base_uri": "https://localhost:8080/",
          "height": 34
        }
      },
      "source": [
        "pd.Index(ser1)"
      ],
      "execution_count": 0,
      "outputs": [
        {
          "output_type": "execute_result",
          "data": {
            "text/plain": [
              "Int64Index([10, 9, 6, 5, 3, 1, 12, 8, 13], dtype='int64')"
            ]
          },
          "metadata": {
            "tags": []
          },
          "execution_count": 18
        }
      ]
    },
    {
      "cell_type": "code",
      "metadata": {
        "id": "hJPBi4hkbjeW",
        "colab_type": "code",
        "outputId": "6dce7339-39d0-4632-fe20-faf451ace4ea",
        "colab": {
          "base_uri": "https://localhost:8080/",
          "height": 70
        }
      },
      "source": [
        "df1.Survived.value_counts()"
      ],
      "execution_count": 0,
      "outputs": [
        {
          "output_type": "execute_result",
          "data": {
            "text/plain": [
              "0    549\n",
              "1    342\n",
              "Name: Survived, dtype: int64"
            ]
          },
          "metadata": {
            "tags": []
          },
          "execution_count": 33
        }
      ]
    },
    {
      "cell_type": "code",
      "metadata": {
        "id": "Qnwx1Egmbmq5",
        "colab_type": "code",
        "colab": {}
      },
      "source": [
        "truth = pd.Series(range(10))\n",
        "pred = pd.Series(range(10)) + np.random.random(10)"
      ],
      "execution_count": 0,
      "outputs": []
    },
    {
      "cell_type": "code",
      "metadata": {
        "id": "QFqvvGgudM2P",
        "colab_type": "code",
        "outputId": "7990fb32-210a-489f-ab24-aa6cc3342c6e",
        "colab": {
          "base_uri": "https://localhost:8080/",
          "height": 34
        }
      },
      "source": [
        "(np.mean(np.square(truth-pred)))"
      ],
      "execution_count": 0,
      "outputs": [
        {
          "output_type": "execute_result",
          "data": {
            "text/plain": [
              "0.3353053630591269"
            ]
          },
          "metadata": {
            "tags": []
          },
          "execution_count": 37
        }
      ]
    },
    {
      "cell_type": "code",
      "metadata": {
        "id": "Fo2wCqx4dXdo",
        "colab_type": "code",
        "outputId": "74baa315-e69c-4802-aa94-fc6cf82fb8f2",
        "colab": {
          "base_uri": "https://localhost:8080/",
          "height": 34
        }
      },
      "source": [
        "np.square(2)"
      ],
      "execution_count": 0,
      "outputs": [
        {
          "output_type": "execute_result",
          "data": {
            "text/plain": [
              "4"
            ]
          },
          "metadata": {
            "tags": []
          },
          "execution_count": 39
        }
      ]
    },
    {
      "cell_type": "code",
      "metadata": {
        "id": "nBxTbiZkduY7",
        "colab_type": "code",
        "outputId": "d44066a5-bc28-48a4-8096-233c326083c4",
        "colab": {
          "base_uri": "https://localhost:8080/",
          "height": 34
        }
      },
      "source": [
        "s='pawan'\n",
        "s[0]"
      ],
      "execution_count": 0,
      "outputs": [
        {
          "output_type": "execute_result",
          "data": {
            "text/plain": [
              "'p'"
            ]
          },
          "metadata": {
            "tags": []
          },
          "execution_count": 42
        }
      ]
    },
    {
      "cell_type": "code",
      "metadata": {
        "id": "ppt4CvEId1X5",
        "colab_type": "code",
        "colab": {}
      },
      "source": [
        "ser = pd.Series(['how', 'to', 'kick', 'ass?'])"
      ],
      "execution_count": 0,
      "outputs": []
    },
    {
      "cell_type": "code",
      "metadata": {
        "id": "i3ls4UKtefpw",
        "colab_type": "code",
        "colab": {}
      },
      "source": [
        "ser.apply(lambda x: reduce(np.count(),list(x)))"
      ],
      "execution_count": 0,
      "outputs": []
    },
    {
      "cell_type": "code",
      "metadata": {
        "id": "mSAzOlOAkQud",
        "colab_type": "code",
        "colab": {}
      },
      "source": [
        ""
      ],
      "execution_count": 0,
      "outputs": []
    },
    {
      "cell_type": "code",
      "metadata": {
        "id": "-8I6YM2zfe1J",
        "colab_type": "code",
        "colab": {}
      },
      "source": [
        "reduce(np.count(),[1,2,3])"
      ],
      "execution_count": 0,
      "outputs": []
    },
    {
      "cell_type": "code",
      "metadata": {
        "id": "Xqwm0eZfgBsF",
        "colab_type": "code",
        "colab": {}
      },
      "source": [
        ""
      ],
      "execution_count": 0,
      "outputs": []
    },
    {
      "cell_type": "code",
      "metadata": {
        "id": "TuJIc1B-gN3M",
        "colab_type": "code",
        "outputId": "19dc9b43-72d0-4fe6-d8cb-cdc8c0fae951",
        "colab": {
          "base_uri": "https://localhost:8080/",
          "height": 1906
        }
      },
      "source": [
        "pd.DataFrame(df1.Name.str.split(',').values)"
      ],
      "execution_count": 0,
      "outputs": [
        {
          "output_type": "execute_result",
          "data": {
            "text/html": [
              "<div>\n",
              "<style scoped>\n",
              "    .dataframe tbody tr th:only-of-type {\n",
              "        vertical-align: middle;\n",
              "    }\n",
              "\n",
              "    .dataframe tbody tr th {\n",
              "        vertical-align: top;\n",
              "    }\n",
              "\n",
              "    .dataframe thead th {\n",
              "        text-align: right;\n",
              "    }\n",
              "</style>\n",
              "<table border=\"1\" class=\"dataframe\">\n",
              "  <thead>\n",
              "    <tr style=\"text-align: right;\">\n",
              "      <th></th>\n",
              "      <th>0</th>\n",
              "    </tr>\n",
              "  </thead>\n",
              "  <tbody>\n",
              "    <tr>\n",
              "      <th>0</th>\n",
              "      <td>[Braund,  Mr. Owen Harris]</td>\n",
              "    </tr>\n",
              "    <tr>\n",
              "      <th>1</th>\n",
              "      <td>[Cumings,  Mrs. John Bradley (Florence Briggs ...</td>\n",
              "    </tr>\n",
              "    <tr>\n",
              "      <th>2</th>\n",
              "      <td>[Heikkinen,  Miss. Laina]</td>\n",
              "    </tr>\n",
              "    <tr>\n",
              "      <th>3</th>\n",
              "      <td>[Futrelle,  Mrs. Jacques Heath (Lily May Peel)]</td>\n",
              "    </tr>\n",
              "    <tr>\n",
              "      <th>4</th>\n",
              "      <td>[Allen,  Mr. William Henry]</td>\n",
              "    </tr>\n",
              "    <tr>\n",
              "      <th>5</th>\n",
              "      <td>[Moran,  Mr. James]</td>\n",
              "    </tr>\n",
              "    <tr>\n",
              "      <th>6</th>\n",
              "      <td>[McCarthy,  Mr. Timothy J]</td>\n",
              "    </tr>\n",
              "    <tr>\n",
              "      <th>7</th>\n",
              "      <td>[Palsson,  Master. Gosta Leonard]</td>\n",
              "    </tr>\n",
              "    <tr>\n",
              "      <th>8</th>\n",
              "      <td>[Johnson,  Mrs. Oscar W (Elisabeth Vilhelmina ...</td>\n",
              "    </tr>\n",
              "    <tr>\n",
              "      <th>9</th>\n",
              "      <td>[Nasser,  Mrs. Nicholas (Adele Achem)]</td>\n",
              "    </tr>\n",
              "    <tr>\n",
              "      <th>10</th>\n",
              "      <td>[Sandstrom,  Miss. Marguerite Rut]</td>\n",
              "    </tr>\n",
              "    <tr>\n",
              "      <th>11</th>\n",
              "      <td>[Bonnell,  Miss. Elizabeth]</td>\n",
              "    </tr>\n",
              "    <tr>\n",
              "      <th>12</th>\n",
              "      <td>[Saundercock,  Mr. William Henry]</td>\n",
              "    </tr>\n",
              "    <tr>\n",
              "      <th>13</th>\n",
              "      <td>[Andersson,  Mr. Anders Johan]</td>\n",
              "    </tr>\n",
              "    <tr>\n",
              "      <th>14</th>\n",
              "      <td>[Vestrom,  Miss. Hulda Amanda Adolfina]</td>\n",
              "    </tr>\n",
              "    <tr>\n",
              "      <th>15</th>\n",
              "      <td>[Hewlett,  Mrs. (Mary D Kingcome) ]</td>\n",
              "    </tr>\n",
              "    <tr>\n",
              "      <th>16</th>\n",
              "      <td>[Rice,  Master. Eugene]</td>\n",
              "    </tr>\n",
              "    <tr>\n",
              "      <th>17</th>\n",
              "      <td>[Williams,  Mr. Charles Eugene]</td>\n",
              "    </tr>\n",
              "    <tr>\n",
              "      <th>18</th>\n",
              "      <td>[Vander Planke,  Mrs. Julius (Emelia Maria Van...</td>\n",
              "    </tr>\n",
              "    <tr>\n",
              "      <th>19</th>\n",
              "      <td>[Masselmani,  Mrs. Fatima]</td>\n",
              "    </tr>\n",
              "    <tr>\n",
              "      <th>20</th>\n",
              "      <td>[Fynney,  Mr. Joseph J]</td>\n",
              "    </tr>\n",
              "    <tr>\n",
              "      <th>21</th>\n",
              "      <td>[Beesley,  Mr. Lawrence]</td>\n",
              "    </tr>\n",
              "    <tr>\n",
              "      <th>22</th>\n",
              "      <td>[McGowan,  Miss. Anna \"Annie\"]</td>\n",
              "    </tr>\n",
              "    <tr>\n",
              "      <th>23</th>\n",
              "      <td>[Sloper,  Mr. William Thompson]</td>\n",
              "    </tr>\n",
              "    <tr>\n",
              "      <th>24</th>\n",
              "      <td>[Palsson,  Miss. Torborg Danira]</td>\n",
              "    </tr>\n",
              "    <tr>\n",
              "      <th>25</th>\n",
              "      <td>[Asplund,  Mrs. Carl Oscar (Selma Augusta Emil...</td>\n",
              "    </tr>\n",
              "    <tr>\n",
              "      <th>26</th>\n",
              "      <td>[Emir,  Mr. Farred Chehab]</td>\n",
              "    </tr>\n",
              "    <tr>\n",
              "      <th>27</th>\n",
              "      <td>[Fortune,  Mr. Charles Alexander]</td>\n",
              "    </tr>\n",
              "    <tr>\n",
              "      <th>28</th>\n",
              "      <td>[O'Dwyer,  Miss. Ellen \"Nellie\"]</td>\n",
              "    </tr>\n",
              "    <tr>\n",
              "      <th>29</th>\n",
              "      <td>[Todoroff,  Mr. Lalio]</td>\n",
              "    </tr>\n",
              "    <tr>\n",
              "      <th>...</th>\n",
              "      <td>...</td>\n",
              "    </tr>\n",
              "    <tr>\n",
              "      <th>861</th>\n",
              "      <td>[Giles,  Mr. Frederick Edward]</td>\n",
              "    </tr>\n",
              "    <tr>\n",
              "      <th>862</th>\n",
              "      <td>[Swift,  Mrs. Frederick Joel (Margaret Welles ...</td>\n",
              "    </tr>\n",
              "    <tr>\n",
              "      <th>863</th>\n",
              "      <td>[Sage,  Miss. Dorothy Edith \"Dolly\"]</td>\n",
              "    </tr>\n",
              "    <tr>\n",
              "      <th>864</th>\n",
              "      <td>[Gill,  Mr. John William]</td>\n",
              "    </tr>\n",
              "    <tr>\n",
              "      <th>865</th>\n",
              "      <td>[Bystrom,  Mrs. (Karolina)]</td>\n",
              "    </tr>\n",
              "    <tr>\n",
              "      <th>866</th>\n",
              "      <td>[Duran y More,  Miss. Asuncion]</td>\n",
              "    </tr>\n",
              "    <tr>\n",
              "      <th>867</th>\n",
              "      <td>[Roebling,  Mr. Washington Augustus II]</td>\n",
              "    </tr>\n",
              "    <tr>\n",
              "      <th>868</th>\n",
              "      <td>[van Melkebeke,  Mr. Philemon]</td>\n",
              "    </tr>\n",
              "    <tr>\n",
              "      <th>869</th>\n",
              "      <td>[Johnson,  Master. Harold Theodor]</td>\n",
              "    </tr>\n",
              "    <tr>\n",
              "      <th>870</th>\n",
              "      <td>[Balkic,  Mr. Cerin]</td>\n",
              "    </tr>\n",
              "    <tr>\n",
              "      <th>871</th>\n",
              "      <td>[Beckwith,  Mrs. Richard Leonard (Sallie Monyp...</td>\n",
              "    </tr>\n",
              "    <tr>\n",
              "      <th>872</th>\n",
              "      <td>[Carlsson,  Mr. Frans Olof]</td>\n",
              "    </tr>\n",
              "    <tr>\n",
              "      <th>873</th>\n",
              "      <td>[Vander Cruyssen,  Mr. Victor]</td>\n",
              "    </tr>\n",
              "    <tr>\n",
              "      <th>874</th>\n",
              "      <td>[Abelson,  Mrs. Samuel (Hannah Wizosky)]</td>\n",
              "    </tr>\n",
              "    <tr>\n",
              "      <th>875</th>\n",
              "      <td>[Najib,  Miss. Adele Kiamie \"Jane\"]</td>\n",
              "    </tr>\n",
              "    <tr>\n",
              "      <th>876</th>\n",
              "      <td>[Gustafsson,  Mr. Alfred Ossian]</td>\n",
              "    </tr>\n",
              "    <tr>\n",
              "      <th>877</th>\n",
              "      <td>[Petroff,  Mr. Nedelio]</td>\n",
              "    </tr>\n",
              "    <tr>\n",
              "      <th>878</th>\n",
              "      <td>[Laleff,  Mr. Kristo]</td>\n",
              "    </tr>\n",
              "    <tr>\n",
              "      <th>879</th>\n",
              "      <td>[Potter,  Mrs. Thomas Jr (Lily Alexenia Wilson)]</td>\n",
              "    </tr>\n",
              "    <tr>\n",
              "      <th>880</th>\n",
              "      <td>[Shelley,  Mrs. William (Imanita Parrish Hall)]</td>\n",
              "    </tr>\n",
              "    <tr>\n",
              "      <th>881</th>\n",
              "      <td>[Markun,  Mr. Johann]</td>\n",
              "    </tr>\n",
              "    <tr>\n",
              "      <th>882</th>\n",
              "      <td>[Dahlberg,  Miss. Gerda Ulrika]</td>\n",
              "    </tr>\n",
              "    <tr>\n",
              "      <th>883</th>\n",
              "      <td>[Banfield,  Mr. Frederick James]</td>\n",
              "    </tr>\n",
              "    <tr>\n",
              "      <th>884</th>\n",
              "      <td>[Sutehall,  Mr. Henry Jr]</td>\n",
              "    </tr>\n",
              "    <tr>\n",
              "      <th>885</th>\n",
              "      <td>[Rice,  Mrs. William (Margaret Norton)]</td>\n",
              "    </tr>\n",
              "    <tr>\n",
              "      <th>886</th>\n",
              "      <td>[Montvila,  Rev. Juozas]</td>\n",
              "    </tr>\n",
              "    <tr>\n",
              "      <th>887</th>\n",
              "      <td>[Graham,  Miss. Margaret Edith]</td>\n",
              "    </tr>\n",
              "    <tr>\n",
              "      <th>888</th>\n",
              "      <td>[Johnston,  Miss. Catherine Helen \"Carrie\"]</td>\n",
              "    </tr>\n",
              "    <tr>\n",
              "      <th>889</th>\n",
              "      <td>[Behr,  Mr. Karl Howell]</td>\n",
              "    </tr>\n",
              "    <tr>\n",
              "      <th>890</th>\n",
              "      <td>[Dooley,  Mr. Patrick]</td>\n",
              "    </tr>\n",
              "  </tbody>\n",
              "</table>\n",
              "<p>891 rows × 1 columns</p>\n",
              "</div>"
            ],
            "text/plain": [
              "                                                     0\n",
              "0                           [Braund,  Mr. Owen Harris]\n",
              "1    [Cumings,  Mrs. John Bradley (Florence Briggs ...\n",
              "2                            [Heikkinen,  Miss. Laina]\n",
              "3      [Futrelle,  Mrs. Jacques Heath (Lily May Peel)]\n",
              "4                          [Allen,  Mr. William Henry]\n",
              "5                                  [Moran,  Mr. James]\n",
              "6                           [McCarthy,  Mr. Timothy J]\n",
              "7                    [Palsson,  Master. Gosta Leonard]\n",
              "8    [Johnson,  Mrs. Oscar W (Elisabeth Vilhelmina ...\n",
              "9               [Nasser,  Mrs. Nicholas (Adele Achem)]\n",
              "10                  [Sandstrom,  Miss. Marguerite Rut]\n",
              "11                         [Bonnell,  Miss. Elizabeth]\n",
              "12                   [Saundercock,  Mr. William Henry]\n",
              "13                      [Andersson,  Mr. Anders Johan]\n",
              "14             [Vestrom,  Miss. Hulda Amanda Adolfina]\n",
              "15                 [Hewlett,  Mrs. (Mary D Kingcome) ]\n",
              "16                             [Rice,  Master. Eugene]\n",
              "17                     [Williams,  Mr. Charles Eugene]\n",
              "18   [Vander Planke,  Mrs. Julius (Emelia Maria Van...\n",
              "19                          [Masselmani,  Mrs. Fatima]\n",
              "20                             [Fynney,  Mr. Joseph J]\n",
              "21                            [Beesley,  Mr. Lawrence]\n",
              "22                      [McGowan,  Miss. Anna \"Annie\"]\n",
              "23                     [Sloper,  Mr. William Thompson]\n",
              "24                    [Palsson,  Miss. Torborg Danira]\n",
              "25   [Asplund,  Mrs. Carl Oscar (Selma Augusta Emil...\n",
              "26                          [Emir,  Mr. Farred Chehab]\n",
              "27                   [Fortune,  Mr. Charles Alexander]\n",
              "28                    [O'Dwyer,  Miss. Ellen \"Nellie\"]\n",
              "29                              [Todoroff,  Mr. Lalio]\n",
              "..                                                 ...\n",
              "861                     [Giles,  Mr. Frederick Edward]\n",
              "862  [Swift,  Mrs. Frederick Joel (Margaret Welles ...\n",
              "863               [Sage,  Miss. Dorothy Edith \"Dolly\"]\n",
              "864                          [Gill,  Mr. John William]\n",
              "865                        [Bystrom,  Mrs. (Karolina)]\n",
              "866                    [Duran y More,  Miss. Asuncion]\n",
              "867            [Roebling,  Mr. Washington Augustus II]\n",
              "868                     [van Melkebeke,  Mr. Philemon]\n",
              "869                 [Johnson,  Master. Harold Theodor]\n",
              "870                               [Balkic,  Mr. Cerin]\n",
              "871  [Beckwith,  Mrs. Richard Leonard (Sallie Monyp...\n",
              "872                        [Carlsson,  Mr. Frans Olof]\n",
              "873                     [Vander Cruyssen,  Mr. Victor]\n",
              "874           [Abelson,  Mrs. Samuel (Hannah Wizosky)]\n",
              "875                [Najib,  Miss. Adele Kiamie \"Jane\"]\n",
              "876                   [Gustafsson,  Mr. Alfred Ossian]\n",
              "877                            [Petroff,  Mr. Nedelio]\n",
              "878                              [Laleff,  Mr. Kristo]\n",
              "879   [Potter,  Mrs. Thomas Jr (Lily Alexenia Wilson)]\n",
              "880    [Shelley,  Mrs. William (Imanita Parrish Hall)]\n",
              "881                              [Markun,  Mr. Johann]\n",
              "882                    [Dahlberg,  Miss. Gerda Ulrika]\n",
              "883                   [Banfield,  Mr. Frederick James]\n",
              "884                          [Sutehall,  Mr. Henry Jr]\n",
              "885            [Rice,  Mrs. William (Margaret Norton)]\n",
              "886                           [Montvila,  Rev. Juozas]\n",
              "887                    [Graham,  Miss. Margaret Edith]\n",
              "888        [Johnston,  Miss. Catherine Helen \"Carrie\"]\n",
              "889                           [Behr,  Mr. Karl Howell]\n",
              "890                             [Dooley,  Mr. Patrick]\n",
              "\n",
              "[891 rows x 1 columns]"
            ]
          },
          "metadata": {
            "tags": []
          },
          "execution_count": 90
        }
      ]
    },
    {
      "cell_type": "code",
      "metadata": {
        "id": "gYzGFf93gUNI",
        "colab_type": "code",
        "outputId": "4cd77065-f562-4ded-cb63-1d50d088ee8c",
        "colab": {
          "base_uri": "https://localhost:8080/",
          "height": 34
        }
      },
      "source": [
        "'pawan,saxena'.split(',')"
      ],
      "execution_count": 0,
      "outputs": [
        {
          "output_type": "execute_result",
          "data": {
            "text/plain": [
              "['pawan', 'saxena']"
            ]
          },
          "metadata": {
            "tags": []
          },
          "execution_count": 78
        }
      ]
    },
    {
      "cell_type": "code",
      "metadata": {
        "id": "nS-9R9JNl4iQ",
        "colab_type": "code",
        "outputId": "559b0b00-fd4d-4f80-f484-477a42c5b134",
        "colab": {
          "base_uri": "https://localhost:8080/",
          "height": 77
        }
      },
      "source": [
        "pd.DataFrame(['pawan,saxena'.split(',')])"
      ],
      "execution_count": 0,
      "outputs": [
        {
          "output_type": "execute_result",
          "data": {
            "text/html": [
              "<div>\n",
              "<style scoped>\n",
              "    .dataframe tbody tr th:only-of-type {\n",
              "        vertical-align: middle;\n",
              "    }\n",
              "\n",
              "    .dataframe tbody tr th {\n",
              "        vertical-align: top;\n",
              "    }\n",
              "\n",
              "    .dataframe thead th {\n",
              "        text-align: right;\n",
              "    }\n",
              "</style>\n",
              "<table border=\"1\" class=\"dataframe\">\n",
              "  <thead>\n",
              "    <tr style=\"text-align: right;\">\n",
              "      <th></th>\n",
              "      <th>0</th>\n",
              "      <th>1</th>\n",
              "    </tr>\n",
              "  </thead>\n",
              "  <tbody>\n",
              "    <tr>\n",
              "      <th>0</th>\n",
              "      <td>pawan</td>\n",
              "      <td>saxena</td>\n",
              "    </tr>\n",
              "  </tbody>\n",
              "</table>\n",
              "</div>"
            ],
            "text/plain": [
              "       0       1\n",
              "0  pawan  saxena"
            ]
          },
          "metadata": {
            "tags": []
          },
          "execution_count": 80
        }
      ]
    },
    {
      "cell_type": "code",
      "metadata": {
        "id": "o6u2s-x9mExl",
        "colab_type": "code",
        "colab": {}
      },
      "source": [
        "import nltk \n",
        "from nltk.corpus import stopwords\n",
        "from nltk.corpus import gutenberg,wordnet"
      ],
      "execution_count": 0,
      "outputs": []
    },
    {
      "cell_type": "code",
      "metadata": {
        "id": "SVVWsfi5udP3",
        "colab_type": "code",
        "colab": {
          "base_uri": "https://localhost:8080/",
          "height": 70
        },
        "outputId": "f163fca4-dcf5-4f9c-d86f-d77cb6261e03"
      },
      "source": [
        "#nltk.download('stopwords')\n",
        "#nltk.download('gutenberg')\n",
        "nltk.download('wordnet')"
      ],
      "execution_count": 28,
      "outputs": [
        {
          "output_type": "stream",
          "text": [
            "[nltk_data] Downloading package wordnet to /root/nltk_data...\n",
            "[nltk_data]   Unzipping corpora/wordnet.zip.\n"
          ],
          "name": "stdout"
        },
        {
          "output_type": "execute_result",
          "data": {
            "text/plain": [
              "True"
            ]
          },
          "metadata": {
            "tags": []
          },
          "execution_count": 28
        }
      ]
    },
    {
      "cell_type": "code",
      "metadata": {
        "id": "a4qxGB1qpZIX",
        "colab_type": "code",
        "colab": {
          "base_uri": "https://localhost:8080/",
          "height": 336
        },
        "outputId": "e0b79626-ab18-472b-b80f-4c62a0a91ec3"
      },
      "source": [
        "stopwords.raw('english')\n",
        "#utenberg.fileids\n",
        "gutenberg.categori"
      ],
      "execution_count": 35,
      "outputs": [
        {
          "output_type": "execute_result",
          "data": {
            "text/plain": [
              "['austen-emma.txt',\n",
              " 'austen-persuasion.txt',\n",
              " 'austen-sense.txt',\n",
              " 'bible-kjv.txt',\n",
              " 'blake-poems.txt',\n",
              " 'bryant-stories.txt',\n",
              " 'burgess-busterbrown.txt',\n",
              " 'carroll-alice.txt',\n",
              " 'chesterton-ball.txt',\n",
              " 'chesterton-brown.txt',\n",
              " 'chesterton-thursday.txt',\n",
              " 'edgeworth-parents.txt',\n",
              " 'melville-moby_dick.txt',\n",
              " 'milton-paradise.txt',\n",
              " 'shakespeare-caesar.txt',\n",
              " 'shakespeare-hamlet.txt',\n",
              " 'shakespeare-macbeth.txt',\n",
              " 'whitman-leaves.txt']"
            ]
          },
          "metadata": {
            "tags": []
          },
          "execution_count": 35
        }
      ]
    },
    {
      "cell_type": "code",
      "metadata": {
        "id": "1uxnxHqLpoIQ",
        "colab_type": "code",
        "colab": {}
      },
      "source": [
        "from nltk.corpus import brown"
      ],
      "execution_count": 0,
      "outputs": []
    },
    {
      "cell_type": "code",
      "metadata": {
        "id": "gibUy7er2DiP",
        "colab_type": "code",
        "colab": {
          "base_uri": "https://localhost:8080/",
          "height": 70
        },
        "outputId": "1cf7ef00-29dd-47a6-884b-1a8fdedf154d"
      },
      "source": [
        "nltk.download('brown')"
      ],
      "execution_count": 38,
      "outputs": [
        {
          "output_type": "stream",
          "text": [
            "[nltk_data] Downloading package brown to /root/nltk_data...\n",
            "[nltk_data]   Unzipping corpora/brown.zip.\n"
          ],
          "name": "stdout"
        },
        {
          "output_type": "execute_result",
          "data": {
            "text/plain": [
              "True"
            ]
          },
          "metadata": {
            "tags": []
          },
          "execution_count": 38
        }
      ]
    },
    {
      "cell_type": "code",
      "metadata": {
        "id": "ESh9_bZD16Dm",
        "colab_type": "code",
        "colab": {
          "base_uri": "https://localhost:8080/",
          "height": 141
        },
        "outputId": "261638a6-b603-4453-e884-a3b825326f36"
      },
      "source": [
        " cfd = nltk.ConditionalFreqDist(\n",
        "...           (genre, word)\n",
        "...           for genre in brown.categories()\n",
        "...           for word in brown.words(categories=genre))\n",
        ">>> genres = ['news', 'religion', 'hobbies', 'science_fiction', 'romance', 'humor']\n",
        ">>> modals = ['can', 'could', 'may', 'might', 'must', 'will']\n",
        ">>> cfd.tabulate(conditions=genres, samples=modals)"
      ],
      "execution_count": 39,
      "outputs": [
        {
          "output_type": "stream",
          "text": [
            "                  can could   may might  must  will \n",
            "           news    93    86    66    38    50   389 \n",
            "       religion    82    59    78    12    54    71 \n",
            "        hobbies   268    58   131    22    83   264 \n",
            "science_fiction    16    49     4    12     8    16 \n",
            "        romance    74   193    11    51    45    43 \n",
            "          humor    16    30     8     8     9    13 \n"
          ],
          "name": "stdout"
        }
      ]
    },
    {
      "cell_type": "code",
      "metadata": {
        "id": "p9UcNCX62JVW",
        "colab_type": "code",
        "colab": {}
      },
      "source": [
        " cfd = (\\\n",
        "     \n",
        "              (genre, word)\\\n",
        "              for genre in brown.categories()\\\n",
        "              for word in brown.words(categories=genre))"
      ],
      "execution_count": 0,
      "outputs": []
    },
    {
      "cell_type": "code",
      "metadata": {
        "id": "OCdfbDOP2-py",
        "colab_type": "code",
        "colab": {}
      },
      "source": [
        "l1=list('pawan')"
      ],
      "execution_count": 0,
      "outputs": []
    },
    {
      "cell_type": "code",
      "metadata": {
        "id": "tz-7JE-B417m",
        "colab_type": "code",
        "colab": {}
      },
      "source": [
        "cfd=nltk.ConditionalFreqDist((i,l1.count(i)) for i  in l1)"
      ],
      "execution_count": 0,
      "outputs": []
    },
    {
      "cell_type": "code",
      "metadata": {
        "id": "7Nu4Q-zE5fJu",
        "colab_type": "code",
        "colab": {
          "base_uri": "https://localhost:8080/",
          "height": 105
        },
        "outputId": "fcf67bc3-7bb3-4d21-fd21-1a16b546b894"
      },
      "source": [
        "cfd.tabulate()"
      ],
      "execution_count": 58,
      "outputs": [
        {
          "output_type": "stream",
          "text": [
            "  1 2 \n",
            "a 0 2 \n",
            "n 1 0 \n",
            "p 1 0 \n",
            "w 1 0 \n"
          ],
          "name": "stdout"
        }
      ]
    },
    {
      "cell_type": "code",
      "metadata": {
        "id": "nSkBlYf855X9",
        "colab_type": "code",
        "colab": {}
      },
      "source": [
        "from nltk.corpus import wordnet"
      ],
      "execution_count": 0,
      "outputs": []
    },
    {
      "cell_type": "code",
      "metadata": {
        "id": "BoKuVxfd68B3",
        "colab_type": "code",
        "colab": {
          "base_uri": "https://localhost:8080/",
          "height": 70
        },
        "outputId": "8012b228-1ada-4877-e679-95582cc100d9"
      },
      "source": [
        "nltk.download('worde')"
      ],
      "execution_count": 61,
      "outputs": [
        {
          "output_type": "stream",
          "text": [
            "[nltk_data] Error loading wordent: Package 'wordent' not found in\n",
            "[nltk_data]     index\n"
          ],
          "name": "stdout"
        },
        {
          "output_type": "execute_result",
          "data": {
            "text/plain": [
              "False"
            ]
          },
          "metadata": {
            "tags": []
          },
          "execution_count": 61
        }
      ]
    },
    {
      "cell_type": "code",
      "metadata": {
        "id": "GfsGuv4U7HFg",
        "colab_type": "code",
        "colab": {}
      },
      "source": [
        "wordnet.wo"
      ],
      "execution_count": 0,
      "outputs": []
    }
  ]
}